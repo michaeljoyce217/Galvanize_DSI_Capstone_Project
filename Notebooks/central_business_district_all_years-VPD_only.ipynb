{
 "cells": [
  {
   "cell_type": "code",
   "execution_count": 1,
   "metadata": {},
   "outputs": [],
   "source": [
    "import pandas as pd\n",
    "import numpy as np\n",
    "import matplotlib.pyplot as plt\n",
    "import seaborn as sns\n",
    "%matplotlib inline"
   ]
  },
  {
   "cell_type": "code",
   "execution_count": 2,
   "metadata": {},
   "outputs": [],
   "source": [
    "# def year_change(year):\n",
    "#     '''\n",
    "#     function to convert one and two digit years into four digits\n",
    "#     '''\n",
    "#     if len(year)==1:\n",
    "#         year='200'+ year\n",
    "#     else:\n",
    "#         year='20'+year\n",
    "\n",
    "#     return year"
   ]
  },
  {
   "cell_type": "code",
   "execution_count": 3,
   "metadata": {},
   "outputs": [],
   "source": [
    "# import the Vancouver Police Department's most recent data, available every Sunday.\n",
    "# this will be automated in the next iteration of this project\n",
    "df=pd.read_csv('/Users/michaeljoyce/Desktop/Capstone/data/crime_csv_all_years.csv',parse_dates={'dttime':[1,2,3]}, keep_date_col=True)\n",
    "# dttime added for the next step which is gatherind day of the week data\n",
    "\n",
    "# make a copy of the original data to keep an original dataframe intact\n",
    "df_temp=df.copy()\n",
    "\n",
    "# add day of the week to original data\n",
    "df_temp['day_of_week']=df_temp['dttime'].dt.weekday_name\n",
    "\n",
    "# remove missing data, all (or nearly all) of which is the non-property crime data\n",
    "# non-property crime data lacks all address information due to privacy concerns\n",
    "df2=df_temp.dropna()\n",
    "\n",
    "\n",
    "\n",
    "# rename columns as all caps is tedious to work with\n",
    "df3=df2.rename(index=str, columns={\"YEAR\": \"year\", \"MONTH\": \"month\", \"DAY\":\"day\",\"HOUR\":\"hour\",\n",
    "                               \"MINUTE\":\"minute\", \"NEIGHBOURHOOD\":\"neighborhood\"})\n",
    "\n",
    "\n",
    "# sort by date\n",
    "df4=df3.sort_values(['year','month','day','hour','minute'])\n",
    "\n",
    "# remove extraneous data\n",
    "df5=df4.drop(['minute', 'HUNDRED_BLOCK','TYPE'], axis=1)\n",
    "\n",
    "# change all possible values to numeric form\n",
    "df6=df5.apply(pd.to_numeric, errors='ignore')\n",
    "\n",
    "# bin by 1200am-1159am, 1200pm -1159pm\n",
    "hourbins = [-0.1,12.0,24.1]\n",
    "hourlabels = ['1200am-1159am', '1200pm-1159pm']\n",
    "# group by neighborhood, by day_segment\n",
    "df6['day_segment'] = pd.cut(df6[\"hour\"], bins=hourbins,labels=hourlabels)\n",
    "\n",
    "# remove extraneous data\n",
    "df7=df6[['year', 'month', 'day', 'day_of_week','day_segment', 'neighborhood']]\n",
    "\n",
    "# group by neighborhood, by day_segment\n",
    "df8=df7.groupby(df7.columns.tolist()).size()\n",
    "df9=pd.DataFrame(df8).reset_index()\n",
    "df10=df9.rename(index=str, columns={ 0 :\"number_of_crimes\"})\n",
    "# make final copy for merging\n",
    "\n",
    "# remove outlier of 499 crimes due to 2011 Stanley Cup riot\n",
    "df11=df10.loc[df10['number_of_crimes']!=df10['number_of_crimes'].max()]\n",
    "\n",
    "# remove second outlier of 104 crimes due to unknown reason\n",
    "df12=df11.loc[df11['number_of_crimes']!=df11['number_of_crimes'].max()]\n",
    "\n",
    "\n",
    "df_final=df12.copy()"
   ]
  },
  {
   "cell_type": "code",
   "execution_count": null,
   "metadata": {},
   "outputs": [],
   "source": []
  },
  {
   "cell_type": "code",
   "execution_count": 4,
   "metadata": {},
   "outputs": [],
   "source": [
    "# wdf=pd.read_csv('/Users/michaeljoyce/Desktop/Capstone/data/BA_weather_data.csv')\n",
    "\n",
    "# # make a copy of the original data to keep an original dataframe intact\n",
    "# wdf2=wdf.copy()\n",
    "\n",
    "# # remove extraneous data\n",
    "# wdf3=wdf2[['DATE', 'TMAX', 'TMIN']]\n",
    "\n",
    "# # rename columns as all caps is tedious to work with\n",
    "# wdf4=wdf3.rename(index=str, columns={ \"DATE\":\"date\", \"TMAX\":\"tmax\",\"TMIN\":\"tmin\"})\n",
    "\n",
    "# # extract data from wdf3 in a more usable form\n",
    "# wdf4['year'] = wdf4.date.str.split('/').str.get(2)\n",
    "# wdf4['month'] = wdf4.date.str.split('/').str.get(0)\n",
    "# wdf4['day']=wdf4.date.str.split('/').str.get(1)\n",
    "# wdf4=wdf4.drop('date', axis=1)\n",
    "# # change year from 2 digits to 4 for merging\n",
    "# wdf4.year='20'+ wdf4.year\n",
    "# # change all possible values to numeric form\n",
    "# wdf4=wdf4.apply(pd.to_numeric, errors='ignore')\n",
    "\n",
    "# # make final copy for merging\n",
    "# wdf_final=wdf4.copy()"
   ]
  },
  {
   "cell_type": "code",
   "execution_count": null,
   "metadata": {},
   "outputs": [],
   "source": []
  },
  {
   "cell_type": "code",
   "execution_count": 5,
   "metadata": {},
   "outputs": [],
   "source": [
    "# # import the consumer price index for Vancouver, available monthly from Statistics Canada\n",
    "# # this will be automated in the next iteration\n",
    "# cpi_df=pd.read_csv('/Users/michaeljoyce/Desktop/Capstone/data/consumer_price_index_nohead.csv')\n",
    "# # make a copy of the original data to keep an original dataframe intact\n",
    "# cpi_df2=cpi_df.copy()\n",
    "\n",
    "\n",
    "# # extract data from cpi_df2 in a more usable form\n",
    "# cpi_df2['year'] = cpi_df2.date.str.split('-').str.get(0)\n",
    "# cpi_df2['month'] = cpi_df2.date.str.split('-').str.get(1)\n",
    "# cpi_df2.drop('date', axis=1,inplace=True)\n",
    "# cpi_df3=cpi_df2.copy()\n",
    "\n",
    "# # change month from name to numeric\n",
    "# import calendar\n",
    "# d=dict((v,k) for k,v in enumerate(calendar.month_abbr))\n",
    "# cpi_df3.month=cpi_df3.month.map(d)\n",
    "\n",
    "# # change year from 1 or 2 digits to 4 for merging\n",
    "# cpi_df3['year']=cpi_df3['year'].apply(year_change)\n",
    "\n",
    "# # change all possible values to numeric form\n",
    "# cpi_df3=cpi_df3.apply(pd.to_numeric, errors='ignore')\n",
    "\n",
    "# # make final copy for merging\n",
    "# cpi_df_final=cpi_df3.copy()"
   ]
  },
  {
   "cell_type": "code",
   "execution_count": null,
   "metadata": {},
   "outputs": [],
   "source": []
  },
  {
   "cell_type": "code",
   "execution_count": 6,
   "metadata": {},
   "outputs": [],
   "source": [
    "# # import unemployment data for British Columbia, available monthly from Statistics Canada\n",
    "# # this will be automated in the next iteration\n",
    "# emp_df=pd.read_csv('/Users/michaeljoyce/Desktop/Capstone/data/employment_nohead.csv')\n",
    "# # make a copy of the original data to keep an original dataframe intact\n",
    "# emp_df2=emp_df.copy()\n",
    "\n",
    "# # extract data from cpi_df2 in a more usable form\n",
    "# emp_df2['year'] = emp_df2.date.str.split('-').str.get(0)\n",
    "# emp_df2['month'] = emp_df2.date.str.split('-').str.get(1)\n",
    "# emp_df3=emp_df2.drop('date', axis=1)\n",
    "\n",
    "# # change month from name to numeric\n",
    "# import calendar\n",
    "# d=dict((v,k) for k,v in enumerate(calendar.month_abbr))\n",
    "# emp_df3.month=emp_df3.month.map(d)\n",
    "# # change year from 1 or 2 digits to 4 for merging\n",
    "# emp_df3['year']=emp_df3['year'].apply(year_change)\n",
    "\n",
    "# # change all possible values to numeric form\n",
    "# emp_df4=emp_df3.apply(pd.to_numeric, errors='ignore')\n",
    "\n",
    "# # make final copy for merging\n",
    "# emp_df_final=emp_df4.copy()"
   ]
  },
  {
   "cell_type": "code",
   "execution_count": null,
   "metadata": {},
   "outputs": [],
   "source": []
  },
  {
   "cell_type": "code",
   "execution_count": 7,
   "metadata": {},
   "outputs": [],
   "source": [
    "# # import the gross domestic product for British Columbia, available monthly from Statistics Canada\n",
    "# # this will be automated in the next iteration and will be for Vancouver at best and British Columbia\n",
    "# # if this is not possible\n",
    "# gdp_df=pd.read_csv('/Users/michaeljoyce/Desktop/Capstone/data/gdp_2007dollars_nohead.csv')\n",
    "# # make a copy of the original data to keep an original dataframe intact\n",
    "# gdp_df2=gdp_df.copy()\n",
    "\n",
    "# # extract data from cpi_df2 in a more usable form\n",
    "# gdp_df2['year'] = gdp_df2.date.str.split('-').str.get(0)\n",
    "# gdp_df2['month'] = gdp_df2.date.str.split('-').str.get(1)\n",
    "# gdp_df3=gdp_df2.drop('date', axis=1)\n",
    "# gdp_df4=gdp_df3.copy()\n",
    "\n",
    "# # change month from name to numeric\n",
    "# d=dict((v,k) for k,v in enumerate(calendar.month_abbr))\n",
    "# gdp_df4.month=gdp_df4.month.map(d)\n",
    "# # change year from 1 or 2 digits to 4 for merging\n",
    "# gdp_df4['year']=gdp_df4['year'].apply(year_change)\n",
    "\n",
    "# # change all possible values to numeric form\n",
    "# gdp_df5=gdp_df4.apply(pd.to_numeric, errors='ignore')\n",
    "\n",
    "# # make final copy for merging\n",
    "# gdp_df_final=gdp_df5.copy()"
   ]
  },
  {
   "cell_type": "code",
   "execution_count": null,
   "metadata": {},
   "outputs": [],
   "source": []
  },
  {
   "cell_type": "code",
   "execution_count": 8,
   "metadata": {},
   "outputs": [],
   "source": [
    "# # import drug posession data for British Columbia, available monthly from Statistics Canada\n",
    "# # this will be automated in the next iteration\n",
    "# drugs_df=pd.read_csv('/Users/michaeljoyce/Desktop/Capstone/data/drug_offences_2006_to_2016.csv')\n",
    "# # make a copy of the original data to keep an original dataframe intact\n",
    "# drugs_df2=drugs_df.copy()\n",
    "\n",
    "# # remove extraneous data\n",
    "# drugs_df3=drugs_df2[['year','Possession, cocaine ','Heroin, possession ',]]\n",
    "# # make final copy to avoid slicing issues in Pandas\n",
    "# drugs_df4=drugs_df3.copy()\n",
    "\n",
    "# # insert row using means for 2017\n",
    "# drugs_df4.loc[14]=[2017, drugs_df4['Possession, cocaine '].mean(),drugs_df4['Heroin, possession '].mean()]\n",
    "\n",
    "# # insert row using means for 2018\n",
    "# drugs_df4.loc[15]=[2018, drugs_df4['Possession, cocaine '].mean(),drugs_df4['Heroin, possession '].mean()]\n",
    "\n",
    "# # make final copy for merging\n",
    "# drugs_df_final=drugs_df4.copy()"
   ]
  },
  {
   "cell_type": "code",
   "execution_count": null,
   "metadata": {},
   "outputs": [],
   "source": []
  },
  {
   "cell_type": "code",
   "execution_count": 9,
   "metadata": {},
   "outputs": [],
   "source": [
    "# # import annual heroin price data for Canada, gathered manually from various publications of the United Nations\n",
    "# # this will be automated in the next iteration\n",
    "# hp_df=pd.read_csv('/Users/michaeljoyce/Desktop/Capstone/data/Heroin_Prices.csv')\n",
    "# # make a copy of the original data to keep an original dataframe intacthp_df=pd.read_csv('data/Heroin_Prices.csv')\n",
    "# hp_df2=hp_df.copy()\n",
    "\n",
    "# # insert row using means for 2018\n",
    "# hp_df2.loc[15]=[2018, hp_df2['Heroin Price Canada'].mean()]\n",
    "\n",
    "# # make final copy for merging\n",
    "# hp_df_final=hp_df2.copy()\n",
    "\n"
   ]
  },
  {
   "cell_type": "code",
   "execution_count": null,
   "metadata": {},
   "outputs": [],
   "source": []
  },
  {
   "cell_type": "code",
   "execution_count": 10,
   "metadata": {},
   "outputs": [],
   "source": [
    "# '''\n",
    "# function that compiles all databases and also performs feature engineering\n",
    "# '''\n",
    "\n",
    "# # merge exisitng dataframes\n",
    "# new_df1=pd.merge(wdf_final,df_final, how='left', on=['year','month','day'])\n",
    "\n",
    "\n",
    "\n",
    "# # merge exisitng dataframes\n",
    "# new_df2=pd.merge(new_df1,cpi_df_final, how='left', on=['year','month'])\n",
    "\n",
    "\n",
    "\n",
    "# # merge exisitng dataframes\n",
    "# new_df3=pd.merge(new_df2,gdp_df_final, how='left', on=['year','month'])\n",
    "\n",
    "\n",
    "\n",
    "# # merge exisitng dataframes\n",
    "# new_df4=pd.merge(new_df3,emp_df_final, how='left', on=['year','month'])\n",
    "\n",
    "\n",
    "\n",
    "# # merge exisitng dataframes\n",
    "# new_df5=pd.merge(new_df4,drugs_df_final, how='left', on=['year'])\n",
    "\n",
    "\n",
    "\n",
    "# # merge exisitng dataframes\n",
    "# new_df6=pd.merge(new_df5,hp_df_final, how='left', on=['year'])\n",
    "\n",
    "# # change all possible values to numeric form\n",
    "# new_df7=new_df6.apply(pd.to_numeric, errors='ignore')"
   ]
  },
  {
   "cell_type": "code",
   "execution_count": 11,
   "metadata": {},
   "outputs": [],
   "source": [
    "# new_df7.head()"
   ]
  },
  {
   "cell_type": "code",
   "execution_count": 12,
   "metadata": {},
   "outputs": [],
   "source": [
    "# one hot encode day_segment and day_of_week for regession\n",
    "day_segment_number=['day_segment']\n",
    "day_of_week_number=['day_of_week']\n",
    "new_df8=pd.get_dummies(df_final,columns=day_segment_number, drop_first=True)\n",
    "new_df9=pd.get_dummies(new_df8,columns=day_of_week_number,drop_first=True)\n",
    "new_df9.dropna()\n",
    "new_df10=new_df9.copy()\n",
    "# isolate the one high property crime neighborhood\n",
    "temp_cbd_df=new_df10[new_df10.neighborhood == \"Central Business District\"]"
   ]
  },
  {
   "cell_type": "code",
   "execution_count": 13,
   "metadata": {},
   "outputs": [
    {
     "data": {
      "text/html": [
       "<div>\n",
       "<style scoped>\n",
       "    .dataframe tbody tr th:only-of-type {\n",
       "        vertical-align: middle;\n",
       "    }\n",
       "\n",
       "    .dataframe tbody tr th {\n",
       "        vertical-align: top;\n",
       "    }\n",
       "\n",
       "    .dataframe thead th {\n",
       "        text-align: right;\n",
       "    }\n",
       "</style>\n",
       "<table border=\"1\" class=\"dataframe\">\n",
       "  <thead>\n",
       "    <tr style=\"text-align: right;\">\n",
       "      <th></th>\n",
       "      <th>year</th>\n",
       "      <th>month</th>\n",
       "      <th>day</th>\n",
       "      <th>neighborhood</th>\n",
       "      <th>number_of_crimes</th>\n",
       "      <th>day_segment_1200pm-1159pm</th>\n",
       "      <th>day_of_week_Monday</th>\n",
       "      <th>day_of_week_Saturday</th>\n",
       "      <th>day_of_week_Sunday</th>\n",
       "      <th>day_of_week_Thursday</th>\n",
       "      <th>day_of_week_Tuesday</th>\n",
       "      <th>day_of_week_Wednesday</th>\n",
       "    </tr>\n",
       "  </thead>\n",
       "  <tbody>\n",
       "    <tr>\n",
       "      <th>1</th>\n",
       "      <td>2003</td>\n",
       "      <td>1</td>\n",
       "      <td>1</td>\n",
       "      <td>Central Business District</td>\n",
       "      <td>20</td>\n",
       "      <td>0</td>\n",
       "      <td>0</td>\n",
       "      <td>0</td>\n",
       "      <td>0</td>\n",
       "      <td>0</td>\n",
       "      <td>0</td>\n",
       "      <td>1</td>\n",
       "    </tr>\n",
       "    <tr>\n",
       "      <th>20</th>\n",
       "      <td>2003</td>\n",
       "      <td>1</td>\n",
       "      <td>1</td>\n",
       "      <td>Central Business District</td>\n",
       "      <td>17</td>\n",
       "      <td>1</td>\n",
       "      <td>0</td>\n",
       "      <td>0</td>\n",
       "      <td>0</td>\n",
       "      <td>0</td>\n",
       "      <td>0</td>\n",
       "      <td>1</td>\n",
       "    </tr>\n",
       "    <tr>\n",
       "      <th>36</th>\n",
       "      <td>2003</td>\n",
       "      <td>1</td>\n",
       "      <td>2</td>\n",
       "      <td>Central Business District</td>\n",
       "      <td>16</td>\n",
       "      <td>0</td>\n",
       "      <td>0</td>\n",
       "      <td>0</td>\n",
       "      <td>0</td>\n",
       "      <td>1</td>\n",
       "      <td>0</td>\n",
       "      <td>0</td>\n",
       "    </tr>\n",
       "    <tr>\n",
       "      <th>52</th>\n",
       "      <td>2003</td>\n",
       "      <td>1</td>\n",
       "      <td>2</td>\n",
       "      <td>Central Business District</td>\n",
       "      <td>20</td>\n",
       "      <td>1</td>\n",
       "      <td>0</td>\n",
       "      <td>0</td>\n",
       "      <td>0</td>\n",
       "      <td>1</td>\n",
       "      <td>0</td>\n",
       "      <td>0</td>\n",
       "    </tr>\n",
       "    <tr>\n",
       "      <th>71</th>\n",
       "      <td>2003</td>\n",
       "      <td>1</td>\n",
       "      <td>3</td>\n",
       "      <td>Central Business District</td>\n",
       "      <td>7</td>\n",
       "      <td>0</td>\n",
       "      <td>0</td>\n",
       "      <td>0</td>\n",
       "      <td>0</td>\n",
       "      <td>0</td>\n",
       "      <td>0</td>\n",
       "      <td>0</td>\n",
       "    </tr>\n",
       "  </tbody>\n",
       "</table>\n",
       "</div>"
      ],
      "text/plain": [
       "    year  month  day               neighborhood  number_of_crimes  \\\n",
       "1   2003      1    1  Central Business District                20   \n",
       "20  2003      1    1  Central Business District                17   \n",
       "36  2003      1    2  Central Business District                16   \n",
       "52  2003      1    2  Central Business District                20   \n",
       "71  2003      1    3  Central Business District                 7   \n",
       "\n",
       "    day_segment_1200pm-1159pm  day_of_week_Monday  day_of_week_Saturday  \\\n",
       "1                           0                   0                     0   \n",
       "20                          1                   0                     0   \n",
       "36                          0                   0                     0   \n",
       "52                          1                   0                     0   \n",
       "71                          0                   0                     0   \n",
       "\n",
       "    day_of_week_Sunday  day_of_week_Thursday  day_of_week_Tuesday  \\\n",
       "1                    0                     0                    0   \n",
       "20                   0                     0                    0   \n",
       "36                   0                     1                    0   \n",
       "52                   0                     1                    0   \n",
       "71                   0                     0                    0   \n",
       "\n",
       "    day_of_week_Wednesday  \n",
       "1                       1  \n",
       "20                      1  \n",
       "36                      0  \n",
       "52                      0  \n",
       "71                      0  "
      ]
     },
     "execution_count": 13,
     "metadata": {},
     "output_type": "execute_result"
    }
   ],
   "source": [
    "temp_cbd_df.head()"
   ]
  },
  {
   "cell_type": "code",
   "execution_count": 14,
   "metadata": {},
   "outputs": [],
   "source": [
    "# clean data\n",
    "temp2_cbd_df=temp_cbd_df.drop(['neighborhood'],axis=1)\n",
    "temp3_cbd_df=temp2_cbd_df.dropna()\n",
    "cbd_df=temp3_cbd_df.copy()"
   ]
  },
  {
   "cell_type": "code",
   "execution_count": 15,
   "metadata": {},
   "outputs": [
    {
     "data": {
      "text/html": [
       "<div>\n",
       "<style scoped>\n",
       "    .dataframe tbody tr th:only-of-type {\n",
       "        vertical-align: middle;\n",
       "    }\n",
       "\n",
       "    .dataframe tbody tr th {\n",
       "        vertical-align: top;\n",
       "    }\n",
       "\n",
       "    .dataframe thead th {\n",
       "        text-align: right;\n",
       "    }\n",
       "</style>\n",
       "<table border=\"1\" class=\"dataframe\">\n",
       "  <thead>\n",
       "    <tr style=\"text-align: right;\">\n",
       "      <th></th>\n",
       "      <th>year</th>\n",
       "      <th>month</th>\n",
       "      <th>day</th>\n",
       "      <th>number_of_crimes</th>\n",
       "      <th>day_segment_1200pm-1159pm</th>\n",
       "      <th>day_of_week_Monday</th>\n",
       "      <th>day_of_week_Saturday</th>\n",
       "      <th>day_of_week_Sunday</th>\n",
       "      <th>day_of_week_Thursday</th>\n",
       "      <th>day_of_week_Tuesday</th>\n",
       "      <th>day_of_week_Wednesday</th>\n",
       "    </tr>\n",
       "  </thead>\n",
       "  <tbody>\n",
       "    <tr>\n",
       "      <th>count</th>\n",
       "      <td>11264.000000</td>\n",
       "      <td>11264.000000</td>\n",
       "      <td>11264.000000</td>\n",
       "      <td>11264.000000</td>\n",
       "      <td>11264.000000</td>\n",
       "      <td>11264.000000</td>\n",
       "      <td>11264.000000</td>\n",
       "      <td>11264.000000</td>\n",
       "      <td>11264.000000</td>\n",
       "      <td>11264.000000</td>\n",
       "      <td>11264.000000</td>\n",
       "    </tr>\n",
       "    <tr>\n",
       "      <th>mean</th>\n",
       "      <td>2010.224165</td>\n",
       "      <td>6.426935</td>\n",
       "      <td>15.710138</td>\n",
       "      <td>10.651634</td>\n",
       "      <td>0.500355</td>\n",
       "      <td>0.142933</td>\n",
       "      <td>0.142933</td>\n",
       "      <td>0.142933</td>\n",
       "      <td>0.143022</td>\n",
       "      <td>0.142578</td>\n",
       "      <td>0.142756</td>\n",
       "    </tr>\n",
       "    <tr>\n",
       "      <th>std</th>\n",
       "      <td>4.460656</td>\n",
       "      <td>3.454835</td>\n",
       "      <td>8.804448</td>\n",
       "      <td>5.188389</td>\n",
       "      <td>0.500022</td>\n",
       "      <td>0.350020</td>\n",
       "      <td>0.350020</td>\n",
       "      <td>0.350020</td>\n",
       "      <td>0.350111</td>\n",
       "      <td>0.349658</td>\n",
       "      <td>0.349839</td>\n",
       "    </tr>\n",
       "    <tr>\n",
       "      <th>min</th>\n",
       "      <td>2003.000000</td>\n",
       "      <td>1.000000</td>\n",
       "      <td>1.000000</td>\n",
       "      <td>1.000000</td>\n",
       "      <td>0.000000</td>\n",
       "      <td>0.000000</td>\n",
       "      <td>0.000000</td>\n",
       "      <td>0.000000</td>\n",
       "      <td>0.000000</td>\n",
       "      <td>0.000000</td>\n",
       "      <td>0.000000</td>\n",
       "    </tr>\n",
       "    <tr>\n",
       "      <th>25%</th>\n",
       "      <td>2006.000000</td>\n",
       "      <td>3.000000</td>\n",
       "      <td>8.000000</td>\n",
       "      <td>7.000000</td>\n",
       "      <td>0.000000</td>\n",
       "      <td>0.000000</td>\n",
       "      <td>0.000000</td>\n",
       "      <td>0.000000</td>\n",
       "      <td>0.000000</td>\n",
       "      <td>0.000000</td>\n",
       "      <td>0.000000</td>\n",
       "    </tr>\n",
       "    <tr>\n",
       "      <th>50%</th>\n",
       "      <td>2010.000000</td>\n",
       "      <td>6.000000</td>\n",
       "      <td>16.000000</td>\n",
       "      <td>10.000000</td>\n",
       "      <td>1.000000</td>\n",
       "      <td>0.000000</td>\n",
       "      <td>0.000000</td>\n",
       "      <td>0.000000</td>\n",
       "      <td>0.000000</td>\n",
       "      <td>0.000000</td>\n",
       "      <td>0.000000</td>\n",
       "    </tr>\n",
       "    <tr>\n",
       "      <th>75%</th>\n",
       "      <td>2014.000000</td>\n",
       "      <td>9.000000</td>\n",
       "      <td>23.000000</td>\n",
       "      <td>14.000000</td>\n",
       "      <td>1.000000</td>\n",
       "      <td>0.000000</td>\n",
       "      <td>0.000000</td>\n",
       "      <td>0.000000</td>\n",
       "      <td>0.000000</td>\n",
       "      <td>0.000000</td>\n",
       "      <td>0.000000</td>\n",
       "    </tr>\n",
       "    <tr>\n",
       "      <th>max</th>\n",
       "      <td>2018.000000</td>\n",
       "      <td>12.000000</td>\n",
       "      <td>31.000000</td>\n",
       "      <td>43.000000</td>\n",
       "      <td>1.000000</td>\n",
       "      <td>1.000000</td>\n",
       "      <td>1.000000</td>\n",
       "      <td>1.000000</td>\n",
       "      <td>1.000000</td>\n",
       "      <td>1.000000</td>\n",
       "      <td>1.000000</td>\n",
       "    </tr>\n",
       "  </tbody>\n",
       "</table>\n",
       "</div>"
      ],
      "text/plain": [
       "               year         month           day  number_of_crimes  \\\n",
       "count  11264.000000  11264.000000  11264.000000      11264.000000   \n",
       "mean    2010.224165      6.426935     15.710138         10.651634   \n",
       "std        4.460656      3.454835      8.804448          5.188389   \n",
       "min     2003.000000      1.000000      1.000000          1.000000   \n",
       "25%     2006.000000      3.000000      8.000000          7.000000   \n",
       "50%     2010.000000      6.000000     16.000000         10.000000   \n",
       "75%     2014.000000      9.000000     23.000000         14.000000   \n",
       "max     2018.000000     12.000000     31.000000         43.000000   \n",
       "\n",
       "       day_segment_1200pm-1159pm  day_of_week_Monday  day_of_week_Saturday  \\\n",
       "count               11264.000000        11264.000000          11264.000000   \n",
       "mean                    0.500355            0.142933              0.142933   \n",
       "std                     0.500022            0.350020              0.350020   \n",
       "min                     0.000000            0.000000              0.000000   \n",
       "25%                     0.000000            0.000000              0.000000   \n",
       "50%                     1.000000            0.000000              0.000000   \n",
       "75%                     1.000000            0.000000              0.000000   \n",
       "max                     1.000000            1.000000              1.000000   \n",
       "\n",
       "       day_of_week_Sunday  day_of_week_Thursday  day_of_week_Tuesday  \\\n",
       "count        11264.000000          11264.000000         11264.000000   \n",
       "mean             0.142933              0.143022             0.142578   \n",
       "std              0.350020              0.350111             0.349658   \n",
       "min              0.000000              0.000000             0.000000   \n",
       "25%              0.000000              0.000000             0.000000   \n",
       "50%              0.000000              0.000000             0.000000   \n",
       "75%              0.000000              0.000000             0.000000   \n",
       "max              1.000000              1.000000             1.000000   \n",
       "\n",
       "       day_of_week_Wednesday  \n",
       "count           11264.000000  \n",
       "mean                0.142756  \n",
       "std                 0.349839  \n",
       "min                 0.000000  \n",
       "25%                 0.000000  \n",
       "50%                 0.000000  \n",
       "75%                 0.000000  \n",
       "max                 1.000000  "
      ]
     },
     "execution_count": 15,
     "metadata": {},
     "output_type": "execute_result"
    }
   ],
   "source": [
    "cbd_df.describe()"
   ]
  },
  {
   "cell_type": "code",
   "execution_count": 16,
   "metadata": {},
   "outputs": [
    {
     "data": {
      "text/plain": [
       "Index(['year', 'month', 'day', 'number_of_crimes', 'day_segment_1200pm-1159pm',\n",
       "       'day_of_week_Monday', 'day_of_week_Saturday', 'day_of_week_Sunday',\n",
       "       'day_of_week_Thursday', 'day_of_week_Tuesday', 'day_of_week_Wednesday'],\n",
       "      dtype='object')"
      ]
     },
     "execution_count": 16,
     "metadata": {},
     "output_type": "execute_result"
    }
   ],
   "source": [
    "cbd_df.columns"
   ]
  },
  {
   "cell_type": "code",
   "execution_count": null,
   "metadata": {},
   "outputs": [],
   "source": []
  },
  {
   "cell_type": "code",
   "execution_count": 17,
   "metadata": {},
   "outputs": [],
   "source": [
    "from sklearn.model_selection import train_test_split"
   ]
  },
  {
   "cell_type": "code",
   "execution_count": 18,
   "metadata": {},
   "outputs": [],
   "source": [
    "# separate the target variable\n",
    "X=cbd_df[['year', 'month', 'day', 'day_segment_1200pm-1159pm',\n",
    "       'day_of_week_Monday', 'day_of_week_Saturday', 'day_of_week_Sunday',\n",
    "       'day_of_week_Thursday', 'day_of_week_Tuesday', 'day_of_week_Wednesday']]\n",
    "\n",
    "y=cbd_df['number_of_crimes']\n",
    "\n"
   ]
  },
  {
   "cell_type": "code",
   "execution_count": 19,
   "metadata": {},
   "outputs": [],
   "source": [
    "# split data into train and test sets\n",
    "X_train, X_test, y_train, y_test=train_test_split(X,y,test_size=0.3, random_state=42)"
   ]
  },
  {
   "cell_type": "code",
   "execution_count": 20,
   "metadata": {},
   "outputs": [],
   "source": [
    "from sklearn.preprocessing import StandardScaler\n",
    "scaler = StandardScaler()\n",
    "scaler.fit(X_train)  # Don't cheat - fit only on training data\n",
    "X_train = scaler.transform(X_train)\n",
    "X_test = scaler.transform(X_test)  # apply same transformation to test data"
   ]
  },
  {
   "cell_type": "code",
   "execution_count": null,
   "metadata": {},
   "outputs": [],
   "source": []
  },
  {
   "cell_type": "code",
   "execution_count": 21,
   "metadata": {},
   "outputs": [],
   "source": [
    "X_columns=['year', 'month', 'day', 'day_segment_1200pm-1159pm',\n",
    "       'day_of_week_Monday', 'day_of_week_Saturday', 'day_of_week_Sunday',\n",
    "       'day_of_week_Thursday', 'day_of_week_Tuesday', 'day_of_week_Wednesday']"
   ]
  },
  {
   "cell_type": "code",
   "execution_count": null,
   "metadata": {},
   "outputs": [],
   "source": []
  },
  {
   "cell_type": "code",
   "execution_count": 22,
   "metadata": {},
   "outputs": [
    {
     "data": {
      "text/plain": [
       "Lasso(alpha=0.2, copy_X=True, fit_intercept=True, max_iter=1000,\n",
       "   normalize=False, positive=False, precompute=False, random_state=None,\n",
       "   selection='cyclic', tol=0.0001, warm_start=False)"
      ]
     },
     "execution_count": 22,
     "metadata": {},
     "output_type": "execute_result"
    }
   ],
   "source": [
    "# import model metrics\n",
    "from sklearn import metrics\n",
    "from sklearn.metrics import r2_score\n",
    "\n",
    "#fit lasso regression model\n",
    "from sklearn import linear_model\n",
    "clf=linear_model.Lasso(alpha=0.2)\n",
    "clf.fit(X_train,y_train)"
   ]
  },
  {
   "cell_type": "code",
   "execution_count": 23,
   "metadata": {},
   "outputs": [
    {
     "name": "stdout",
     "output_type": "stream",
     "text": [
      "[-0.         -0.         -0.21728569  2.02302294 -0.          0.36826267\n",
      "  0.         -0.         -0.         -0.17575734]\n"
     ]
    }
   ],
   "source": [
    "print(clf.coef_)"
   ]
  },
  {
   "cell_type": "code",
   "execution_count": 24,
   "metadata": {},
   "outputs": [
    {
     "name": "stdout",
     "output_type": "stream",
     "text": [
      "10.6317858955\n"
     ]
    }
   ],
   "source": [
    "print(clf.intercept_)"
   ]
  },
  {
   "cell_type": "code",
   "execution_count": 25,
   "metadata": {},
   "outputs": [
    {
     "data": {
      "text/html": [
       "<div>\n",
       "<style scoped>\n",
       "    .dataframe tbody tr th:only-of-type {\n",
       "        vertical-align: middle;\n",
       "    }\n",
       "\n",
       "    .dataframe tbody tr th {\n",
       "        vertical-align: top;\n",
       "    }\n",
       "\n",
       "    .dataframe thead th {\n",
       "        text-align: right;\n",
       "    }\n",
       "</style>\n",
       "<table border=\"1\" class=\"dataframe\">\n",
       "  <thead>\n",
       "    <tr style=\"text-align: right;\">\n",
       "      <th></th>\n",
       "      <th>Coefficient</th>\n",
       "    </tr>\n",
       "  </thead>\n",
       "  <tbody>\n",
       "    <tr>\n",
       "      <th>year</th>\n",
       "      <td>-0.000000</td>\n",
       "    </tr>\n",
       "    <tr>\n",
       "      <th>month</th>\n",
       "      <td>-0.000000</td>\n",
       "    </tr>\n",
       "    <tr>\n",
       "      <th>day</th>\n",
       "      <td>-0.217286</td>\n",
       "    </tr>\n",
       "    <tr>\n",
       "      <th>day_segment_1200pm-1159pm</th>\n",
       "      <td>2.023023</td>\n",
       "    </tr>\n",
       "    <tr>\n",
       "      <th>day_of_week_Monday</th>\n",
       "      <td>-0.000000</td>\n",
       "    </tr>\n",
       "    <tr>\n",
       "      <th>day_of_week_Saturday</th>\n",
       "      <td>0.368263</td>\n",
       "    </tr>\n",
       "    <tr>\n",
       "      <th>day_of_week_Sunday</th>\n",
       "      <td>0.000000</td>\n",
       "    </tr>\n",
       "    <tr>\n",
       "      <th>day_of_week_Thursday</th>\n",
       "      <td>-0.000000</td>\n",
       "    </tr>\n",
       "    <tr>\n",
       "      <th>day_of_week_Tuesday</th>\n",
       "      <td>-0.000000</td>\n",
       "    </tr>\n",
       "    <tr>\n",
       "      <th>day_of_week_Wednesday</th>\n",
       "      <td>-0.175757</td>\n",
       "    </tr>\n",
       "  </tbody>\n",
       "</table>\n",
       "</div>"
      ],
      "text/plain": [
       "                           Coefficient\n",
       "year                         -0.000000\n",
       "month                        -0.000000\n",
       "day                          -0.217286\n",
       "day_segment_1200pm-1159pm     2.023023\n",
       "day_of_week_Monday           -0.000000\n",
       "day_of_week_Saturday          0.368263\n",
       "day_of_week_Sunday            0.000000\n",
       "day_of_week_Thursday         -0.000000\n",
       "day_of_week_Tuesday          -0.000000\n",
       "day_of_week_Wednesday        -0.175757"
      ]
     },
     "execution_count": 25,
     "metadata": {},
     "output_type": "execute_result"
    }
   ],
   "source": [
    "# examine lasso regression coefficients\n",
    "coeff_df=pd.DataFrame(clf.coef_, X_columns, columns=['Coefficient'])\n",
    "coeff_df"
   ]
  },
  {
   "cell_type": "code",
   "execution_count": 26,
   "metadata": {},
   "outputs": [
    {
     "name": "stdout",
     "output_type": "stream",
     "text": [
      "MAE: 3.6237422092\n",
      "MSE: 21.2361525229\n",
      "RMSE: 4.6082700141\n",
      "R2 score:  0.200800253935\n"
     ]
    },
    {
     "name": "stderr",
     "output_type": "stream",
     "text": [
      "/Users/michaeljoyce/anaconda3/lib/python3.6/site-packages/matplotlib/axes/_axes.py:6462: UserWarning: The 'normed' kwarg is deprecated, and has been replaced by the 'density' kwarg.\n",
      "  warnings.warn(\"The 'normed' kwarg is deprecated, and has been \"\n"
     ]
    },
    {
     "data": {
      "text/plain": [
       "<matplotlib.axes._subplots.AxesSubplot at 0x1a2dc993c8>"
      ]
     },
     "execution_count": 26,
     "metadata": {},
     "output_type": "execute_result"
    },
    {
     "data": {
      "image/png": "[encoded data removed]",
      "text/plain": [
       "<Figure size 432x288 with 1 Axes>"
      ]
     },
     "metadata": {},
     "output_type": "display_data"
    }
   ],
   "source": [
    "# investigate model metrics and examine distribution\n",
    "predictions1=clf.predict(X_test)\n",
    "print('MAE:', metrics.mean_absolute_error(y_test, predictions1))\n",
    "print('MSE:', metrics.mean_squared_error(y_test, predictions1))\n",
    "print('RMSE:', np.sqrt(metrics.mean_squared_error(y_test, predictions1)))\n",
    "print('R2 score: ',r2_score(y_test,predictions1))\n",
    "sns.distplot(y_test-predictions1)"
   ]
  },
  {
   "cell_type": "code",
   "execution_count": null,
   "metadata": {},
   "outputs": [],
   "source": []
  },
  {
   "cell_type": "code",
   "execution_count": 27,
   "metadata": {},
   "outputs": [
    {
     "data": {
      "text/plain": [
       "RandomForestRegressor(bootstrap=True, criterion='mse', max_depth=2,\n",
       "           max_features='auto', max_leaf_nodes=None,\n",
       "           min_impurity_decrease=0.0, min_impurity_split=None,\n",
       "           min_samples_leaf=1, min_samples_split=2,\n",
       "           min_weight_fraction_leaf=0.0, n_estimators=10, n_jobs=1,\n",
       "           oob_score=False, random_state=42, verbose=0, warm_start=False)"
      ]
     },
     "execution_count": 27,
     "metadata": {},
     "output_type": "execute_result"
    }
   ],
   "source": [
    "from sklearn.ensemble import RandomForestRegressor\n",
    "\n",
    "# fit random forest regression model\n",
    "regr=RandomForestRegressor(max_depth=2, random_state=42)\n",
    "regr.fit(X_train,y_train)"
   ]
  },
  {
   "cell_type": "code",
   "execution_count": 28,
   "metadata": {},
   "outputs": [
    {
     "name": "stdout",
     "output_type": "stream",
     "text": [
      "MAE: 3.49022991051\n",
      "MSE: 19.820561951\n",
      "RMSE: 4.45202897015\n",
      "R2 score:  0.254074481663\n"
     ]
    },
    {
     "name": "stderr",
     "output_type": "stream",
     "text": [
      "/Users/michaeljoyce/anaconda3/lib/python3.6/site-packages/matplotlib/axes/_axes.py:6462: UserWarning: The 'normed' kwarg is deprecated, and has been replaced by the 'density' kwarg.\n",
      "  warnings.warn(\"The 'normed' kwarg is deprecated, and has been \"\n"
     ]
    },
    {
     "data": {
      "text/plain": [
       "<matplotlib.axes._subplots.AxesSubplot at 0x1a2e3584e0>"
      ]
     },
     "execution_count": 28,
     "metadata": {},
     "output_type": "execute_result"
    },
    {
     "data": {
      "image/png": "[encoded data removed]",
      "text/plain": [
       "<Figure size 432x288 with 1 Axes>"
      ]
     },
     "metadata": {},
     "output_type": "display_data"
    }
   ],
   "source": [
    "# investigate model metrics and examine distribution\n",
    "predictions2=regr.predict(X_test)\n",
    "print('MAE:', metrics.mean_absolute_error(y_test, predictions2))\n",
    "print('MSE:', metrics.mean_squared_error(y_test, predictions2))\n",
    "print('RMSE:', np.sqrt(metrics.mean_squared_error(y_test, predictions2)))\n",
    "print('R2 score: ',r2_score(y_test,predictions2))\n",
    "sns.distplot(y_test-predictions2)"
   ]
  },
  {
   "cell_type": "code",
   "execution_count": null,
   "metadata": {},
   "outputs": [],
   "source": []
  },
  {
   "cell_type": "code",
   "execution_count": 29,
   "metadata": {},
   "outputs": [],
   "source": [
    "from sklearn.ensemble import AdaBoostRegressor"
   ]
  },
  {
   "cell_type": "code",
   "execution_count": 30,
   "metadata": {},
   "outputs": [
    {
     "data": {
      "text/plain": [
       "AdaBoostRegressor(base_estimator=None, learning_rate=1.0, loss='linear',\n",
       "         n_estimators=50, random_state=None)"
      ]
     },
     "execution_count": 30,
     "metadata": {},
     "output_type": "execute_result"
    }
   ],
   "source": [
    "ada=AdaBoostRegressor()\n",
    "\n",
    "# fit adaptive boosting regression model\n",
    "ada.fit(X_train, y_train)\n"
   ]
  },
  {
   "cell_type": "code",
   "execution_count": 31,
   "metadata": {},
   "outputs": [
    {
     "name": "stdout",
     "output_type": "stream",
     "text": [
      "MAE: 3.55730624053\n",
      "MSE: 19.3917810754\n",
      "RMSE: 4.40361000492\n",
      "R2 score:  0.270211188467\n"
     ]
    },
    {
     "name": "stderr",
     "output_type": "stream",
     "text": [
      "/Users/michaeljoyce/anaconda3/lib/python3.6/site-packages/matplotlib/axes/_axes.py:6462: UserWarning: The 'normed' kwarg is deprecated, and has been replaced by the 'density' kwarg.\n",
      "  warnings.warn(\"The 'normed' kwarg is deprecated, and has been \"\n"
     ]
    },
    {
     "data": {
      "text/plain": [
       "<matplotlib.axes._subplots.AxesSubplot at 0x1a2e381780>"
      ]
     },
     "execution_count": 31,
     "metadata": {},
     "output_type": "execute_result"
    },
    {
     "data": {
      "image/png": "[encoded data removed]",
      "text/plain": [
       "<Figure size 432x288 with 1 Axes>"
      ]
     },
     "metadata": {},
     "output_type": "display_data"
    }
   ],
   "source": [
    "# investigate model metrics and examine distribution\n",
    "predictions3=ada.predict(X_test)\n",
    "print('MAE:', metrics.mean_absolute_error(y_test, predictions3))\n",
    "print('MSE:', metrics.mean_squared_error(y_test, predictions3))\n",
    "print('RMSE:', np.sqrt(metrics.mean_squared_error(y_test, predictions3)))\n",
    "print('R2 score: ',r2_score(y_test,predictions3))\n",
    "sns.distplot(y_test-predictions3)"
   ]
  },
  {
   "cell_type": "code",
   "execution_count": 32,
   "metadata": {},
   "outputs": [
    {
     "data": {
      "text/plain": [
       "MLPRegressor(activation='relu', alpha=0.0001, batch_size='auto', beta_1=0.9,\n",
       "       beta_2=0.999, early_stopping=False, epsilon=1e-08,\n",
       "       hidden_layer_sizes=(100,), learning_rate='constant',\n",
       "       learning_rate_init=0.001, max_iter=200, momentum=0.9,\n",
       "       nesterovs_momentum=True, power_t=0.5, random_state=None,\n",
       "       shuffle=True, solver='adam', tol=0.0001, validation_fraction=0.1,\n",
       "       verbose=False, warm_start=False)"
      ]
     },
     "execution_count": 32,
     "metadata": {},
     "output_type": "execute_result"
    }
   ],
   "source": [
    "from sklearn.neural_network import MLPRegressor\n",
    "\n",
    "# fit neural network regression model\n",
    "mlp=MLPRegressor()\n",
    "mlp.fit(X_train,y_train)"
   ]
  },
  {
   "cell_type": "code",
   "execution_count": 33,
   "metadata": {},
   "outputs": [
    {
     "name": "stdout",
     "output_type": "stream",
     "text": [
      "MAE: 3.10947448705\n",
      "MSE: 16.024587157\n",
      "RMSE: 4.00307221482\n",
      "R2 score:  0.396931907845\n"
     ]
    },
    {
     "name": "stderr",
     "output_type": "stream",
     "text": [
      "/Users/michaeljoyce/anaconda3/lib/python3.6/site-packages/matplotlib/axes/_axes.py:6462: UserWarning: The 'normed' kwarg is deprecated, and has been replaced by the 'density' kwarg.\n",
      "  warnings.warn(\"The 'normed' kwarg is deprecated, and has been \"\n"
     ]
    },
    {
     "data": {
      "text/plain": [
       "<matplotlib.axes._subplots.AxesSubplot at 0x1a2e64dfd0>"
      ]
     },
     "execution_count": 33,
     "metadata": {},
     "output_type": "execute_result"
    },
    {
     "data": {
      "image/png": "[encoded data removed]",
      "text/plain": [
       "<Figure size 432x288 with 1 Axes>"
      ]
     },
     "metadata": {},
     "output_type": "display_data"
    }
   ],
   "source": [
    "# investigate model metrics and examine distribution\n",
    "predictions4=mlp.predict(X_test)\n",
    "print('MAE:', metrics.mean_absolute_error(y_test, predictions4))\n",
    "print('MSE:', metrics.mean_squared_error(y_test, predictions4))\n",
    "print('RMSE:', np.sqrt(metrics.mean_squared_error(y_test, predictions4)))\n",
    "print('R2 score: ',r2_score(y_test,predictions4))\n",
    "sns.distplot(y_test-predictions4)"
   ]
  },
  {
   "cell_type": "code",
   "execution_count": null,
   "metadata": {},
   "outputs": [],
   "source": []
  },
  {
   "cell_type": "code",
   "execution_count": 34,
   "metadata": {},
   "outputs": [
    {
     "data": {
      "text/plain": [
       "XGBRegressor(base_score=0.5, booster='gbtree', colsample_bylevel=1,\n",
       "       colsample_bytree=1, gamma=0, learning_rate=0.1, max_delta_step=0,\n",
       "       max_depth=3, min_child_weight=1, missing=None, n_estimators=100,\n",
       "       n_jobs=1, nthread=None, objective='reg:linear', random_state=0,\n",
       "       reg_alpha=0, reg_lambda=1, scale_pos_weight=1, seed=None,\n",
       "       silent=True, subsample=1)"
      ]
     },
     "execution_count": 34,
     "metadata": {},
     "output_type": "execute_result"
    }
   ],
   "source": [
    "from xgboost.sklearn import XGBRegressor\n",
    "\n",
    "# fit extreme gradient boosting regression model\n",
    "xgb=XGBRegressor()\n",
    "xgb.fit(X_train,y_train)"
   ]
  },
  {
   "cell_type": "code",
   "execution_count": 35,
   "metadata": {},
   "outputs": [
    {
     "name": "stdout",
     "output_type": "stream",
     "text": [
      "MAE: 3.03064140124\n",
      "MSE: 15.2289510323\n",
      "RMSE: 3.90242886319\n",
      "R2 score:  0.426874817145\n"
     ]
    },
    {
     "name": "stderr",
     "output_type": "stream",
     "text": [
      "/Users/michaeljoyce/anaconda3/lib/python3.6/site-packages/matplotlib/axes/_axes.py:6462: UserWarning: The 'normed' kwarg is deprecated, and has been replaced by the 'density' kwarg.\n",
      "  warnings.warn(\"The 'normed' kwarg is deprecated, and has been \"\n"
     ]
    },
    {
     "data": {
      "text/plain": [
       "<matplotlib.axes._subplots.AxesSubplot at 0x1a2b59bbe0>"
      ]
     },
     "execution_count": 35,
     "metadata": {},
     "output_type": "execute_result"
    },
    {
     "data": {
      "image/png": "[encoded data removed]",
      "text/plain": [
       "<Figure size 432x288 with 1 Axes>"
      ]
     },
     "metadata": {},
     "output_type": "display_data"
    }
   ],
   "source": [
    "# investigate model metrics and examine distribution\n",
    "predictions5=xgb.predict(X_test)\n",
    "print('MAE:', metrics.mean_absolute_error(y_test, predictions5))\n",
    "print('MSE:', metrics.mean_squared_error(y_test, predictions5))\n",
    "print('RMSE:', np.sqrt(metrics.mean_squared_error(y_test, predictions5)))\n",
    "print('R2 score: ',r2_score(y_test,predictions5))\n",
    "sns.distplot(y_test-predictions5)"
   ]
  },
  {
   "cell_type": "code",
   "execution_count": null,
   "metadata": {},
   "outputs": [],
   "source": []
  },
  {
   "cell_type": "code",
   "execution_count": 36,
   "metadata": {},
   "outputs": [],
   "source": [
    "# perform grid search for best parameters for XGBRegrssor\n",
    "\n",
    "# from sklearn.grid_search import GridSearchCV\n",
    "\n",
    "# # A parameter grid for XGBoost\n",
    "# params = {'min_child_weight':[4,5], 'gamma':[i/10.0 for i in range(3,6)],  'subsample':[i/10.0 for i in range(6,11)],\n",
    "# 'colsample_bytree':[i/10.0 for i in range(6,11)], 'max_depth': [2,3,4]}\n",
    "# # Initialize XGB and GridSearch\n",
    "# xgb = XGBRegressor(nthread=-1) \n",
    "\n",
    "# grid = GridSearchCV(xgb, params)\n"
   ]
  },
  {
   "cell_type": "code",
   "execution_count": 37,
   "metadata": {},
   "outputs": [
    {
     "data": {
      "text/plain": [
       "XGBRegressor(base_score=0.5, booster='gbtree', colsample_bylevel=1,\n",
       "       colsample_bytree=1, gamma=0, learning_rate=0.1, max_delta_step=0,\n",
       "       max_depth=3, min_child_weight=1, missing=None, n_estimators=100,\n",
       "       n_jobs=1, nthread=-1, objective='reg:linear', random_state=0,\n",
       "       reg_alpha=0, reg_lambda=1, scale_pos_weight=1, seed=None,\n",
       "       silent=True, subsample=1)"
      ]
     },
     "execution_count": 37,
     "metadata": {},
     "output_type": "execute_result"
    }
   ],
   "source": [
    "# fit optimal extreme gradient boosting regression model\n",
    "xgb2=XGBRegressor(base_score=0.5, booster='gbtree', colsample_bylevel=1,\n",
    "       colsample_bytree=1, gamma=0, learning_rate=0.1, max_delta_step=0,\n",
    "       max_depth=3, min_child_weight=1, missing=None, n_estimators=100,\n",
    "       n_jobs=1, nthread=-1, objective='reg:linear', random_state=0,\n",
    "       reg_alpha=0, reg_lambda=1, scale_pos_weight=1, seed=None,\n",
    "       silent=True, subsample=1)\n",
    "xgb2.fit(X_train,y_train)"
   ]
  },
  {
   "cell_type": "code",
   "execution_count": null,
   "metadata": {},
   "outputs": [],
   "source": []
  },
  {
   "cell_type": "code",
   "execution_count": 38,
   "metadata": {},
   "outputs": [
    {
     "name": "stdout",
     "output_type": "stream",
     "text": [
      "MAE: 3.03064140124\n",
      "MSE: 15.2289510323\n",
      "RMSE: 3.90242886319\n",
      "R2 score:  0.426874817145\n"
     ]
    },
    {
     "name": "stderr",
     "output_type": "stream",
     "text": [
      "/Users/michaeljoyce/anaconda3/lib/python3.6/site-packages/matplotlib/axes/_axes.py:6462: UserWarning: The 'normed' kwarg is deprecated, and has been replaced by the 'density' kwarg.\n",
      "  warnings.warn(\"The 'normed' kwarg is deprecated, and has been \"\n"
     ]
    },
    {
     "data": {
      "text/plain": [
       "<matplotlib.axes._subplots.AxesSubplot at 0x1a2b59bb70>"
      ]
     },
     "execution_count": 38,
     "metadata": {},
     "output_type": "execute_result"
    },
    {
     "data": {
      "image/png": "[encoded data removed]",
      "text/plain": [
       "<Figure size 432x288 with 1 Axes>"
      ]
     },
     "metadata": {},
     "output_type": "display_data"
    }
   ],
   "source": [
    "# investigate model metrics and examine distribution\n",
    "predictions6=xgb2.predict(X_test)\n",
    "print('MAE:', metrics.mean_absolute_error(y_test, predictions6))\n",
    "print('MSE:', metrics.mean_squared_error(y_test, predictions6))\n",
    "print('RMSE:', np.sqrt(metrics.mean_squared_error(y_test, predictions6)))\n",
    "print('R2 score: ',r2_score(y_test,predictions6))\n",
    "sns.distplot(y_test-predictions6)"
   ]
  },
  {
   "cell_type": "code",
   "execution_count": null,
   "metadata": {},
   "outputs": [],
   "source": []
  },
  {
   "cell_type": "code",
   "execution_count": null,
   "metadata": {},
   "outputs": [],
   "source": []
  },
  {
   "cell_type": "code",
   "execution_count": 39,
   "metadata": {},
   "outputs": [
    {
     "data": {
      "text/html": [
       "<div>\n",
       "<style scoped>\n",
       "    .dataframe tbody tr th:only-of-type {\n",
       "        vertical-align: middle;\n",
       "    }\n",
       "\n",
       "    .dataframe tbody tr th {\n",
       "        vertical-align: top;\n",
       "    }\n",
       "\n",
       "    .dataframe thead th {\n",
       "        text-align: right;\n",
       "    }\n",
       "</style>\n",
       "<table border=\"1\" class=\"dataframe\">\n",
       "  <thead>\n",
       "    <tr style=\"text-align: right;\">\n",
       "      <th></th>\n",
       "      <th>Coefficient</th>\n",
       "    </tr>\n",
       "  </thead>\n",
       "  <tbody>\n",
       "    <tr>\n",
       "      <th>year</th>\n",
       "      <td>0.317143</td>\n",
       "    </tr>\n",
       "    <tr>\n",
       "      <th>month</th>\n",
       "      <td>0.144286</td>\n",
       "    </tr>\n",
       "    <tr>\n",
       "      <th>day</th>\n",
       "      <td>0.231429</td>\n",
       "    </tr>\n",
       "    <tr>\n",
       "      <th>day_segment_1200pm-1159pm</th>\n",
       "      <td>0.124286</td>\n",
       "    </tr>\n",
       "    <tr>\n",
       "      <th>day_of_week_Monday</th>\n",
       "      <td>0.031429</td>\n",
       "    </tr>\n",
       "    <tr>\n",
       "      <th>day_of_week_Saturday</th>\n",
       "      <td>0.027143</td>\n",
       "    </tr>\n",
       "    <tr>\n",
       "      <th>day_of_week_Sunday</th>\n",
       "      <td>0.025714</td>\n",
       "    </tr>\n",
       "    <tr>\n",
       "      <th>day_of_week_Thursday</th>\n",
       "      <td>0.032857</td>\n",
       "    </tr>\n",
       "    <tr>\n",
       "      <th>day_of_week_Tuesday</th>\n",
       "      <td>0.025714</td>\n",
       "    </tr>\n",
       "    <tr>\n",
       "      <th>day_of_week_Wednesday</th>\n",
       "      <td>0.040000</td>\n",
       "    </tr>\n",
       "  </tbody>\n",
       "</table>\n",
       "</div>"
      ],
      "text/plain": [
       "                           Coefficient\n",
       "year                          0.317143\n",
       "month                         0.144286\n",
       "day                           0.231429\n",
       "day_segment_1200pm-1159pm     0.124286\n",
       "day_of_week_Monday            0.031429\n",
       "day_of_week_Saturday          0.027143\n",
       "day_of_week_Sunday            0.025714\n",
       "day_of_week_Thursday          0.032857\n",
       "day_of_week_Tuesday           0.025714\n",
       "day_of_week_Wednesday         0.040000"
      ]
     },
     "execution_count": 39,
     "metadata": {},
     "output_type": "execute_result"
    }
   ],
   "source": [
    "# examine feature importance metrics from XGBRegression\n",
    "coeff_df2=pd.DataFrame(xgb2.feature_importances_, X_columns, columns=['Coefficient'])\n",
    "coeff_df2"
   ]
  },
  {
   "cell_type": "code",
   "execution_count": null,
   "metadata": {},
   "outputs": [],
   "source": []
  },
  {
   "cell_type": "code",
   "execution_count": null,
   "metadata": {},
   "outputs": [],
   "source": []
  },
  {
   "cell_type": "code",
   "execution_count": null,
   "metadata": {},
   "outputs": [],
   "source": []
  },
  {
   "cell_type": "code",
   "execution_count": null,
   "metadata": {},
   "outputs": [],
   "source": []
  },
  {
   "cell_type": "code",
   "execution_count": null,
   "metadata": {},
   "outputs": [],
   "source": []
  },
  {
   "cell_type": "code",
   "execution_count": null,
   "metadata": {},
   "outputs": [],
   "source": []
  },
  {
   "cell_type": "code",
   "execution_count": null,
   "metadata": {},
   "outputs": [],
   "source": []
  },
  {
   "cell_type": "code",
   "execution_count": null,
   "metadata": {},
   "outputs": [],
   "source": []
  },
  {
   "cell_type": "code",
   "execution_count": null,
   "metadata": {},
   "outputs": [],
   "source": []
  },
  {
   "cell_type": "code",
   "execution_count": null,
   "metadata": {},
   "outputs": [],
   "source": []
  },
  {
   "cell_type": "code",
   "execution_count": null,
   "metadata": {},
   "outputs": [],
   "source": []
  },
  {
   "cell_type": "code",
   "execution_count": null,
   "metadata": {},
   "outputs": [],
   "source": []
  },
  {
   "cell_type": "code",
   "execution_count": null,
   "metadata": {},
   "outputs": [],
   "source": []
  },
  {
   "cell_type": "code",
   "execution_count": null,
   "metadata": {},
   "outputs": [],
   "source": []
  },
  {
   "cell_type": "code",
   "execution_count": null,
   "metadata": {},
   "outputs": [],
   "source": []
  }
 ],
 "metadata": {
  "kernelspec": {
   "display_name": "Python 3",
   "language": "python",
   "name": "python3"
  },
  "language_info": {
   "codemirror_mode": {
    "name": "ipython",
    "version": 3
   },
   "file_extension": ".py",
   "mimetype": "text/x-python",
   "name": "python",
   "nbconvert_exporter": "python",
   "pygments_lexer": "ipython3",
   "version": "3.6.4"
  }
 },
 "nbformat": 4,
 "nbformat_minor": 2
}
