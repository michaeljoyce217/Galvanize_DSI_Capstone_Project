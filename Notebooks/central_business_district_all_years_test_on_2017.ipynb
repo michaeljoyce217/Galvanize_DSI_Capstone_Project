{
 "cells": [
  {
   "cell_type": "code",
   "execution_count": 1,
   "metadata": {},
   "outputs": [],
   "source": [
    "import pandas as pd\n",
    "import numpy as np\n",
    "import matplotlib.pyplot as plt\n",
    "import seaborn as sns\n",
    "%matplotlib inline"
   ]
  },
  {
   "cell_type": "code",
   "execution_count": 2,
   "metadata": {},
   "outputs": [],
   "source": [
    "def year_change(year):\n",
    "    '''\n",
    "    function to convert one and two digit years into four digits\n",
    "    '''\n",
    "    if len(year)==1:\n",
    "        year='200'+ year\n",
    "    else:\n",
    "        year='20'+year\n",
    "\n",
    "    return year"
   ]
  },
  {
   "cell_type": "code",
   "execution_count": 3,
   "metadata": {},
   "outputs": [],
   "source": [
    "# import the Vancouver Police Department's most recent data, available every Sunday.\n",
    "# this will be automated in the next iteration of this project\n",
    "df=pd.read_csv('/Users/michaeljoyce/Desktop/Capstone/data/crime_csv_all_years.csv',parse_dates={'dttime':[1,2,3]}, keep_date_col=True)\n",
    "# dttime added for the next step which is gatherind day of the week data\n",
    "\n",
    "# make a copy of the original data to keep an original dataframe intact\n",
    "df_temp=df.copy()\n",
    "\n",
    "# add day of the week to original data\n",
    "df_temp['day_of_week']=df_temp['dttime'].dt.weekday_name\n",
    "\n",
    "# remove missing data, all (or nearly all) of which is the non-property crime data\n",
    "# non-property crime data lacks all address information due to privacy concerns\n",
    "df2=df_temp.dropna()\n",
    "\n",
    "\n",
    "\n",
    "# rename columns as all caps is tedious to work with\n",
    "df3=df2.rename(index=str, columns={\"YEAR\": \"year\", \"MONTH\": \"month\", \"DAY\":\"day\",\"HOUR\":\"hour\",\n",
    "                               \"MINUTE\":\"minute\", \"NEIGHBOURHOOD\":\"neighborhood\"})\n",
    "\n",
    "\n",
    "# sort by date\n",
    "df4=df3.sort_values(['year','month','day','hour','minute'])\n",
    "\n",
    "# remove extraneous data\n",
    "df5=df4.drop(['minute', 'HUNDRED_BLOCK','TYPE'], axis=1)\n",
    "\n",
    "# change all possible values to numeric form\n",
    "df6=df5.apply(pd.to_numeric, errors='ignore')\n",
    "\n",
    "# bin by 1200am-1159am, 1200pm -1159pm\n",
    "hourbins = [-0.1,12.0,24.1]\n",
    "hourlabels = ['1200am-1159am', '1200pm-1159pm']\n",
    "# group by neighborhood, by day_segment\n",
    "df6['day_segment'] = pd.cut(df6[\"hour\"], bins=hourbins,labels=hourlabels)\n",
    "\n",
    "# remove extraneous data\n",
    "df7=df6[['year', 'month', 'day', 'day_of_week','day_segment', 'neighborhood']]\n",
    "\n",
    "# group by neighborhood, by day_segment\n",
    "df8=df7.groupby(df7.columns.tolist()).size()\n",
    "df9=pd.DataFrame(df8).reset_index()\n",
    "df10=df9.rename(index=str, columns={ 0 :\"number_of_crimes\"})\n",
    "# make final copy for merging\n",
    "\n",
    "# remove outlier of 499 crimes due to 2011 Stanley Cup riot\n",
    "df11=df10.loc[df10['number_of_crimes']!=df10['number_of_crimes'].max()]\n",
    "\n",
    "# remove second outlier of 104 crimes due to unknown reason\n",
    "df12=df11.loc[df11['number_of_crimes']!=df11['number_of_crimes'].max()]\n",
    "\n",
    "\n",
    "df_final=df12.copy()"
   ]
  },
  {
   "cell_type": "code",
   "execution_count": null,
   "metadata": {},
   "outputs": [],
   "source": []
  },
  {
   "cell_type": "code",
   "execution_count": 4,
   "metadata": {},
   "outputs": [],
   "source": [
    "wdf=pd.read_csv('/Users/michaeljoyce/Desktop/Capstone/data/BA_weather_data.csv')\n",
    "\n",
    "# make a copy of the original data to keep an original dataframe intact\n",
    "wdf2=wdf.copy()\n",
    "\n",
    "# remove extraneous data\n",
    "wdf3=wdf2[['DATE', 'TMAX', 'TMIN']]\n",
    "\n",
    "# rename columns as all caps is tedious to work with\n",
    "wdf4=wdf3.rename(index=str, columns={ \"DATE\":\"date\", \"TMAX\":\"tmax\",\"TMIN\":\"tmin\"})\n",
    "\n",
    "# extract data from wdf3 in a more usable form\n",
    "wdf4['year'] = wdf4.date.str.split('/').str.get(2)\n",
    "wdf4['month'] = wdf4.date.str.split('/').str.get(0)\n",
    "wdf4['day']=wdf4.date.str.split('/').str.get(1)\n",
    "wdf4=wdf4.drop('date', axis=1)\n",
    "# change year from 2 digits to 4 for merging\n",
    "wdf4.year='20'+ wdf4.year\n",
    "# change all possible values to numeric form\n",
    "wdf4=wdf4.apply(pd.to_numeric, errors='ignore')\n",
    "\n",
    "# make final copy for merging\n",
    "wdf_final=wdf4.copy()"
   ]
  },
  {
   "cell_type": "code",
   "execution_count": null,
   "metadata": {},
   "outputs": [],
   "source": []
  },
  {
   "cell_type": "code",
   "execution_count": 5,
   "metadata": {},
   "outputs": [],
   "source": [
    "# import the consumer price index for Vancouver, available monthly from Statistics Canada\n",
    "# this will be automated in the next iteration\n",
    "cpi_df=pd.read_csv('/Users/michaeljoyce/Desktop/Capstone/data/consumer_price_index_nohead.csv')\n",
    "# make a copy of the original data to keep an original dataframe intact\n",
    "cpi_df2=cpi_df.copy()\n",
    "\n",
    "\n",
    "# extract data from cpi_df2 in a more usable form\n",
    "cpi_df2['year'] = cpi_df2.date.str.split('-').str.get(0)\n",
    "cpi_df2['month'] = cpi_df2.date.str.split('-').str.get(1)\n",
    "cpi_df2.drop('date', axis=1,inplace=True)\n",
    "cpi_df3=cpi_df2.copy()\n",
    "\n",
    "# change month from name to numeric\n",
    "import calendar\n",
    "d=dict((v,k) for k,v in enumerate(calendar.month_abbr))\n",
    "cpi_df3.month=cpi_df3.month.map(d)\n",
    "\n",
    "# change year from 1 or 2 digits to 4 for merging\n",
    "cpi_df3['year']=cpi_df3['year'].apply(year_change)\n",
    "\n",
    "# change all possible values to numeric form\n",
    "cpi_df3=cpi_df3.apply(pd.to_numeric, errors='ignore')\n",
    "\n",
    "# make final copy for merging\n",
    "cpi_df_final=cpi_df3.copy()"
   ]
  },
  {
   "cell_type": "code",
   "execution_count": null,
   "metadata": {},
   "outputs": [],
   "source": []
  },
  {
   "cell_type": "code",
   "execution_count": 6,
   "metadata": {},
   "outputs": [],
   "source": [
    "# import unemployment data for British Columbia, available monthly from Statistics Canada\n",
    "# this will be automated in the next iteration\n",
    "emp_df=pd.read_csv('/Users/michaeljoyce/Desktop/Capstone/data/employment_nohead.csv')\n",
    "# make a copy of the original data to keep an original dataframe intact\n",
    "emp_df2=emp_df.copy()\n",
    "\n",
    "# extract data from cpi_df2 in a more usable form\n",
    "emp_df2['year'] = emp_df2.date.str.split('-').str.get(0)\n",
    "emp_df2['month'] = emp_df2.date.str.split('-').str.get(1)\n",
    "emp_df3=emp_df2.drop('date', axis=1)\n",
    "\n",
    "# change month from name to numeric\n",
    "import calendar\n",
    "d=dict((v,k) for k,v in enumerate(calendar.month_abbr))\n",
    "emp_df3.month=emp_df3.month.map(d)\n",
    "# change year from 1 or 2 digits to 4 for merging\n",
    "emp_df3['year']=emp_df3['year'].apply(year_change)\n",
    "\n",
    "# change all possible values to numeric form\n",
    "emp_df4=emp_df3.apply(pd.to_numeric, errors='ignore')\n",
    "\n",
    "# make final copy for merging\n",
    "emp_df_final=emp_df4.copy()"
   ]
  },
  {
   "cell_type": "code",
   "execution_count": null,
   "metadata": {},
   "outputs": [],
   "source": []
  },
  {
   "cell_type": "code",
   "execution_count": 7,
   "metadata": {},
   "outputs": [],
   "source": [
    "# import the gross domestic product for British Columbia, available monthly from Statistics Canada\n",
    "# this will be automated in the next iteration and will be for Vancouver at best and British Columbia\n",
    "# if this is not possible\n",
    "gdp_df=pd.read_csv('/Users/michaeljoyce/Desktop/Capstone/data/gdp_2007dollars_nohead.csv')\n",
    "# make a copy of the original data to keep an original dataframe intact\n",
    "gdp_df2=gdp_df.copy()\n",
    "\n",
    "# extract data from cpi_df2 in a more usable form\n",
    "gdp_df2['year'] = gdp_df2.date.str.split('-').str.get(0)\n",
    "gdp_df2['month'] = gdp_df2.date.str.split('-').str.get(1)\n",
    "gdp_df3=gdp_df2.drop('date', axis=1)\n",
    "gdp_df4=gdp_df3.copy()\n",
    "\n",
    "# change month from name to numeric\n",
    "d=dict((v,k) for k,v in enumerate(calendar.month_abbr))\n",
    "gdp_df4.month=gdp_df4.month.map(d)\n",
    "# change year from 1 or 2 digits to 4 for merging\n",
    "gdp_df4['year']=gdp_df4['year'].apply(year_change)\n",
    "\n",
    "# change all possible values to numeric form\n",
    "gdp_df5=gdp_df4.apply(pd.to_numeric, errors='ignore')\n",
    "\n",
    "# make final copy for merging\n",
    "gdp_df_final=gdp_df5.copy()"
   ]
  },
  {
   "cell_type": "code",
   "execution_count": null,
   "metadata": {},
   "outputs": [],
   "source": []
  },
  {
   "cell_type": "code",
   "execution_count": 8,
   "metadata": {},
   "outputs": [],
   "source": [
    "# import drug posession data for British Columbia, available monthly from Statistics Canada\n",
    "# this will be automated in the next iteration\n",
    "drugs_df=pd.read_csv('/Users/michaeljoyce/Desktop/Capstone/data/drug_offences_2006_to_2016.csv')\n",
    "# make a copy of the original data to keep an original dataframe intact\n",
    "drugs_df2=drugs_df.copy()\n",
    "\n",
    "# remove extraneous data\n",
    "drugs_df3=drugs_df2[['year','Possession, cocaine ','Heroin, possession ',]]\n",
    "# make final copy to avoid slicing issues in Pandas\n",
    "drugs_df4=drugs_df3.copy()\n",
    "\n",
    "# insert row using means for 2017\n",
    "drugs_df4.loc[14]=[2017, drugs_df4['Possession, cocaine '].mean(),drugs_df4['Heroin, possession '].mean()]\n",
    "\n",
    "# insert row using means for 2018\n",
    "drugs_df4.loc[15]=[2018, drugs_df4['Possession, cocaine '].mean(),drugs_df4['Heroin, possession '].mean()]\n",
    "\n",
    "# make final copy for merging\n",
    "drugs_df_final=drugs_df4.copy()"
   ]
  },
  {
   "cell_type": "code",
   "execution_count": null,
   "metadata": {},
   "outputs": [],
   "source": []
  },
  {
   "cell_type": "code",
   "execution_count": 9,
   "metadata": {},
   "outputs": [],
   "source": [
    "# import annual heroin price data for Canada, gathered manually from various publications of the United Nations\n",
    "# this will be automated in the next iteration\n",
    "hp_df=pd.read_csv('/Users/michaeljoyce/Desktop/Capstone/data/Heroin_Prices.csv')\n",
    "# make a copy of the original data to keep an original dataframe intacthp_df=pd.read_csv('data/Heroin_Prices.csv')\n",
    "hp_df2=hp_df.copy()\n",
    "\n",
    "# insert row using means for 2018\n",
    "hp_df2.loc[15]=[2018, hp_df2['Heroin Price Canada'].mean()]\n",
    "\n",
    "# make final copy for merging\n",
    "hp_df_final=hp_df2.copy()\n",
    "\n"
   ]
  },
  {
   "cell_type": "code",
   "execution_count": null,
   "metadata": {},
   "outputs": [],
   "source": []
  },
  {
   "cell_type": "code",
   "execution_count": 10,
   "metadata": {},
   "outputs": [],
   "source": [
    "'''\n",
    "function that compiles all databases and also performs feature engineering\n",
    "'''\n",
    "\n",
    "# merge exisitng dataframes\n",
    "new_df1=pd.merge(wdf_final,df_final, how='left', on=['year','month','day'])\n",
    "\n",
    "\n",
    "\n",
    "# merge exisitng dataframes\n",
    "new_df2=pd.merge(new_df1,cpi_df_final, how='left', on=['year','month'])\n",
    "\n",
    "\n",
    "\n",
    "# merge exisitng dataframes\n",
    "new_df3=pd.merge(new_df2,gdp_df_final, how='left', on=['year','month'])\n",
    "\n",
    "\n",
    "\n",
    "# merge exisitng dataframes\n",
    "new_df4=pd.merge(new_df3,emp_df_final, how='left', on=['year','month'])\n",
    "\n",
    "\n",
    "\n",
    "# merge exisitng dataframes\n",
    "new_df5=pd.merge(new_df4,drugs_df_final, how='left', on=['year'])\n",
    "\n",
    "\n",
    "\n",
    "# merge exisitng dataframes\n",
    "new_df6=pd.merge(new_df5,hp_df_final, how='left', on=['year'])\n",
    "\n",
    "# change all possible values to numeric form\n",
    "new_df7=new_df6.apply(pd.to_numeric, errors='ignore')"
   ]
  },
  {
   "cell_type": "code",
   "execution_count": 11,
   "metadata": {},
   "outputs": [
    {
     "data": {
      "text/html": [
       "<div>\n",
       "<style scoped>\n",
       "    .dataframe tbody tr th:only-of-type {\n",
       "        vertical-align: middle;\n",
       "    }\n",
       "\n",
       "    .dataframe tbody tr th {\n",
       "        vertical-align: top;\n",
       "    }\n",
       "\n",
       "    .dataframe thead th {\n",
       "        text-align: right;\n",
       "    }\n",
       "</style>\n",
       "<table border=\"1\" class=\"dataframe\">\n",
       "  <thead>\n",
       "    <tr style=\"text-align: right;\">\n",
       "      <th></th>\n",
       "      <th>tmax</th>\n",
       "      <th>tmin</th>\n",
       "      <th>year</th>\n",
       "      <th>month</th>\n",
       "      <th>day</th>\n",
       "      <th>day_of_week</th>\n",
       "      <th>day_segment</th>\n",
       "      <th>neighborhood</th>\n",
       "      <th>number_of_crimes</th>\n",
       "      <th>consumer_price_index</th>\n",
       "      <th>gdp_millions_2007</th>\n",
       "      <th>seasonally_adjusted_unemployment</th>\n",
       "      <th>unadjusted_unemployment</th>\n",
       "      <th>Possession, cocaine</th>\n",
       "      <th>Heroin, possession</th>\n",
       "      <th>Heroin Price Canada</th>\n",
       "    </tr>\n",
       "  </thead>\n",
       "  <tbody>\n",
       "    <tr>\n",
       "      <th>0</th>\n",
       "      <td>50.0</td>\n",
       "      <td>40.0</td>\n",
       "      <td>2003</td>\n",
       "      <td>1</td>\n",
       "      <td>1</td>\n",
       "      <td>Wednesday</td>\n",
       "      <td>1200am-1159am</td>\n",
       "      <td>Arbutus Ridge</td>\n",
       "      <td>1.0</td>\n",
       "      <td>100.9</td>\n",
       "      <td>1305716</td>\n",
       "      <td>7.9</td>\n",
       "      <td>7.5</td>\n",
       "      <td>4682.0</td>\n",
       "      <td>515.0</td>\n",
       "      <td>202.0</td>\n",
       "    </tr>\n",
       "    <tr>\n",
       "      <th>1</th>\n",
       "      <td>50.0</td>\n",
       "      <td>40.0</td>\n",
       "      <td>2003</td>\n",
       "      <td>1</td>\n",
       "      <td>1</td>\n",
       "      <td>Wednesday</td>\n",
       "      <td>1200am-1159am</td>\n",
       "      <td>Central Business District</td>\n",
       "      <td>20.0</td>\n",
       "      <td>100.9</td>\n",
       "      <td>1305716</td>\n",
       "      <td>7.9</td>\n",
       "      <td>7.5</td>\n",
       "      <td>4682.0</td>\n",
       "      <td>515.0</td>\n",
       "      <td>202.0</td>\n",
       "    </tr>\n",
       "    <tr>\n",
       "      <th>2</th>\n",
       "      <td>50.0</td>\n",
       "      <td>40.0</td>\n",
       "      <td>2003</td>\n",
       "      <td>1</td>\n",
       "      <td>1</td>\n",
       "      <td>Wednesday</td>\n",
       "      <td>1200am-1159am</td>\n",
       "      <td>Dunbar-Southlands</td>\n",
       "      <td>1.0</td>\n",
       "      <td>100.9</td>\n",
       "      <td>1305716</td>\n",
       "      <td>7.9</td>\n",
       "      <td>7.5</td>\n",
       "      <td>4682.0</td>\n",
       "      <td>515.0</td>\n",
       "      <td>202.0</td>\n",
       "    </tr>\n",
       "    <tr>\n",
       "      <th>3</th>\n",
       "      <td>50.0</td>\n",
       "      <td>40.0</td>\n",
       "      <td>2003</td>\n",
       "      <td>1</td>\n",
       "      <td>1</td>\n",
       "      <td>Wednesday</td>\n",
       "      <td>1200am-1159am</td>\n",
       "      <td>Fairview</td>\n",
       "      <td>1.0</td>\n",
       "      <td>100.9</td>\n",
       "      <td>1305716</td>\n",
       "      <td>7.9</td>\n",
       "      <td>7.5</td>\n",
       "      <td>4682.0</td>\n",
       "      <td>515.0</td>\n",
       "      <td>202.0</td>\n",
       "    </tr>\n",
       "    <tr>\n",
       "      <th>4</th>\n",
       "      <td>50.0</td>\n",
       "      <td>40.0</td>\n",
       "      <td>2003</td>\n",
       "      <td>1</td>\n",
       "      <td>1</td>\n",
       "      <td>Wednesday</td>\n",
       "      <td>1200am-1159am</td>\n",
       "      <td>Grandview-Woodland</td>\n",
       "      <td>8.0</td>\n",
       "      <td>100.9</td>\n",
       "      <td>1305716</td>\n",
       "      <td>7.9</td>\n",
       "      <td>7.5</td>\n",
       "      <td>4682.0</td>\n",
       "      <td>515.0</td>\n",
       "      <td>202.0</td>\n",
       "    </tr>\n",
       "  </tbody>\n",
       "</table>\n",
       "</div>"
      ],
      "text/plain": [
       "   tmax  tmin  year  month  day day_of_week    day_segment  \\\n",
       "0  50.0  40.0  2003      1    1   Wednesday  1200am-1159am   \n",
       "1  50.0  40.0  2003      1    1   Wednesday  1200am-1159am   \n",
       "2  50.0  40.0  2003      1    1   Wednesday  1200am-1159am   \n",
       "3  50.0  40.0  2003      1    1   Wednesday  1200am-1159am   \n",
       "4  50.0  40.0  2003      1    1   Wednesday  1200am-1159am   \n",
       "\n",
       "                neighborhood  number_of_crimes  consumer_price_index  \\\n",
       "0              Arbutus Ridge               1.0                 100.9   \n",
       "1  Central Business District              20.0                 100.9   \n",
       "2          Dunbar-Southlands               1.0                 100.9   \n",
       "3                   Fairview               1.0                 100.9   \n",
       "4         Grandview-Woodland               8.0                 100.9   \n",
       "\n",
       "   gdp_millions_2007  seasonally_adjusted_unemployment  \\\n",
       "0            1305716                               7.9   \n",
       "1            1305716                               7.9   \n",
       "2            1305716                               7.9   \n",
       "3            1305716                               7.9   \n",
       "4            1305716                               7.9   \n",
       "\n",
       "   unadjusted_unemployment  Possession, cocaine   Heroin, possession   \\\n",
       "0                      7.5                4682.0                515.0   \n",
       "1                      7.5                4682.0                515.0   \n",
       "2                      7.5                4682.0                515.0   \n",
       "3                      7.5                4682.0                515.0   \n",
       "4                      7.5                4682.0                515.0   \n",
       "\n",
       "   Heroin Price Canada  \n",
       "0                202.0  \n",
       "1                202.0  \n",
       "2                202.0  \n",
       "3                202.0  \n",
       "4                202.0  "
      ]
     },
     "execution_count": 11,
     "metadata": {},
     "output_type": "execute_result"
    }
   ],
   "source": [
    "new_df7.head()"
   ]
  },
  {
   "cell_type": "code",
   "execution_count": 12,
   "metadata": {},
   "outputs": [],
   "source": [
    "# one hot encode day_segment and day_of_week for regession\n",
    "day_segment_number=['day_segment']\n",
    "day_of_week_number=['day_of_week']\n",
    "new_df8=pd.get_dummies(new_df7,columns=day_segment_number, drop_first=True)\n",
    "new_df9=pd.get_dummies(new_df8,columns=day_of_week_number,drop_first=True)\n",
    "new_df9.dropna()\n",
    "new_df10=new_df9.copy()\n",
    "# isolate the one high property crime neighborhood\n",
    "temp_cbd_df=new_df10[new_df10.neighborhood == \"Central Business District\"]"
   ]
  },
  {
   "cell_type": "code",
   "execution_count": 13,
   "metadata": {},
   "outputs": [
    {
     "data": {
      "text/html": [
       "<div>\n",
       "<style scoped>\n",
       "    .dataframe tbody tr th:only-of-type {\n",
       "        vertical-align: middle;\n",
       "    }\n",
       "\n",
       "    .dataframe tbody tr th {\n",
       "        vertical-align: top;\n",
       "    }\n",
       "\n",
       "    .dataframe thead th {\n",
       "        text-align: right;\n",
       "    }\n",
       "</style>\n",
       "<table border=\"1\" class=\"dataframe\">\n",
       "  <thead>\n",
       "    <tr style=\"text-align: right;\">\n",
       "      <th></th>\n",
       "      <th>tmax</th>\n",
       "      <th>tmin</th>\n",
       "      <th>year</th>\n",
       "      <th>month</th>\n",
       "      <th>day</th>\n",
       "      <th>neighborhood</th>\n",
       "      <th>number_of_crimes</th>\n",
       "      <th>consumer_price_index</th>\n",
       "      <th>gdp_millions_2007</th>\n",
       "      <th>seasonally_adjusted_unemployment</th>\n",
       "      <th>...</th>\n",
       "      <th>Possession, cocaine</th>\n",
       "      <th>Heroin, possession</th>\n",
       "      <th>Heroin Price Canada</th>\n",
       "      <th>day_segment_1200pm-1159pm</th>\n",
       "      <th>day_of_week_Monday</th>\n",
       "      <th>day_of_week_Saturday</th>\n",
       "      <th>day_of_week_Sunday</th>\n",
       "      <th>day_of_week_Thursday</th>\n",
       "      <th>day_of_week_Tuesday</th>\n",
       "      <th>day_of_week_Wednesday</th>\n",
       "    </tr>\n",
       "  </thead>\n",
       "  <tbody>\n",
       "    <tr>\n",
       "      <th>1</th>\n",
       "      <td>50.0</td>\n",
       "      <td>40.0</td>\n",
       "      <td>2003</td>\n",
       "      <td>1</td>\n",
       "      <td>1</td>\n",
       "      <td>Central Business District</td>\n",
       "      <td>20.0</td>\n",
       "      <td>100.9</td>\n",
       "      <td>1305716</td>\n",
       "      <td>7.9</td>\n",
       "      <td>...</td>\n",
       "      <td>4682.0</td>\n",
       "      <td>515.0</td>\n",
       "      <td>202.0</td>\n",
       "      <td>0</td>\n",
       "      <td>0</td>\n",
       "      <td>0</td>\n",
       "      <td>0</td>\n",
       "      <td>0</td>\n",
       "      <td>0</td>\n",
       "      <td>1</td>\n",
       "    </tr>\n",
       "    <tr>\n",
       "      <th>20</th>\n",
       "      <td>50.0</td>\n",
       "      <td>40.0</td>\n",
       "      <td>2003</td>\n",
       "      <td>1</td>\n",
       "      <td>1</td>\n",
       "      <td>Central Business District</td>\n",
       "      <td>17.0</td>\n",
       "      <td>100.9</td>\n",
       "      <td>1305716</td>\n",
       "      <td>7.9</td>\n",
       "      <td>...</td>\n",
       "      <td>4682.0</td>\n",
       "      <td>515.0</td>\n",
       "      <td>202.0</td>\n",
       "      <td>1</td>\n",
       "      <td>0</td>\n",
       "      <td>0</td>\n",
       "      <td>0</td>\n",
       "      <td>0</td>\n",
       "      <td>0</td>\n",
       "      <td>1</td>\n",
       "    </tr>\n",
       "    <tr>\n",
       "      <th>36</th>\n",
       "      <td>57.0</td>\n",
       "      <td>50.0</td>\n",
       "      <td>2003</td>\n",
       "      <td>1</td>\n",
       "      <td>2</td>\n",
       "      <td>Central Business District</td>\n",
       "      <td>16.0</td>\n",
       "      <td>100.9</td>\n",
       "      <td>1305716</td>\n",
       "      <td>7.9</td>\n",
       "      <td>...</td>\n",
       "      <td>4682.0</td>\n",
       "      <td>515.0</td>\n",
       "      <td>202.0</td>\n",
       "      <td>0</td>\n",
       "      <td>0</td>\n",
       "      <td>0</td>\n",
       "      <td>0</td>\n",
       "      <td>1</td>\n",
       "      <td>0</td>\n",
       "      <td>0</td>\n",
       "    </tr>\n",
       "    <tr>\n",
       "      <th>52</th>\n",
       "      <td>57.0</td>\n",
       "      <td>50.0</td>\n",
       "      <td>2003</td>\n",
       "      <td>1</td>\n",
       "      <td>2</td>\n",
       "      <td>Central Business District</td>\n",
       "      <td>20.0</td>\n",
       "      <td>100.9</td>\n",
       "      <td>1305716</td>\n",
       "      <td>7.9</td>\n",
       "      <td>...</td>\n",
       "      <td>4682.0</td>\n",
       "      <td>515.0</td>\n",
       "      <td>202.0</td>\n",
       "      <td>1</td>\n",
       "      <td>0</td>\n",
       "      <td>0</td>\n",
       "      <td>0</td>\n",
       "      <td>1</td>\n",
       "      <td>0</td>\n",
       "      <td>0</td>\n",
       "    </tr>\n",
       "    <tr>\n",
       "      <th>71</th>\n",
       "      <td>54.0</td>\n",
       "      <td>43.0</td>\n",
       "      <td>2003</td>\n",
       "      <td>1</td>\n",
       "      <td>3</td>\n",
       "      <td>Central Business District</td>\n",
       "      <td>7.0</td>\n",
       "      <td>100.9</td>\n",
       "      <td>1305716</td>\n",
       "      <td>7.9</td>\n",
       "      <td>...</td>\n",
       "      <td>4682.0</td>\n",
       "      <td>515.0</td>\n",
       "      <td>202.0</td>\n",
       "      <td>0</td>\n",
       "      <td>0</td>\n",
       "      <td>0</td>\n",
       "      <td>0</td>\n",
       "      <td>0</td>\n",
       "      <td>0</td>\n",
       "      <td>0</td>\n",
       "    </tr>\n",
       "  </tbody>\n",
       "</table>\n",
       "<p>5 rows × 21 columns</p>\n",
       "</div>"
      ],
      "text/plain": [
       "    tmax  tmin  year  month  day               neighborhood  number_of_crimes  \\\n",
       "1   50.0  40.0  2003      1    1  Central Business District              20.0   \n",
       "20  50.0  40.0  2003      1    1  Central Business District              17.0   \n",
       "36  57.0  50.0  2003      1    2  Central Business District              16.0   \n",
       "52  57.0  50.0  2003      1    2  Central Business District              20.0   \n",
       "71  54.0  43.0  2003      1    3  Central Business District               7.0   \n",
       "\n",
       "    consumer_price_index  gdp_millions_2007  seasonally_adjusted_unemployment  \\\n",
       "1                  100.9            1305716                               7.9   \n",
       "20                 100.9            1305716                               7.9   \n",
       "36                 100.9            1305716                               7.9   \n",
       "52                 100.9            1305716                               7.9   \n",
       "71                 100.9            1305716                               7.9   \n",
       "\n",
       "            ...            Possession, cocaine   Heroin, possession   \\\n",
       "1           ...                          4682.0                515.0   \n",
       "20          ...                          4682.0                515.0   \n",
       "36          ...                          4682.0                515.0   \n",
       "52          ...                          4682.0                515.0   \n",
       "71          ...                          4682.0                515.0   \n",
       "\n",
       "    Heroin Price Canada  day_segment_1200pm-1159pm  day_of_week_Monday  \\\n",
       "1                 202.0                          0                   0   \n",
       "20                202.0                          1                   0   \n",
       "36                202.0                          0                   0   \n",
       "52                202.0                          1                   0   \n",
       "71                202.0                          0                   0   \n",
       "\n",
       "    day_of_week_Saturday  day_of_week_Sunday  day_of_week_Thursday  \\\n",
       "1                      0                   0                     0   \n",
       "20                     0                   0                     0   \n",
       "36                     0                   0                     1   \n",
       "52                     0                   0                     1   \n",
       "71                     0                   0                     0   \n",
       "\n",
       "    day_of_week_Tuesday  day_of_week_Wednesday  \n",
       "1                     0                      1  \n",
       "20                    0                      1  \n",
       "36                    0                      0  \n",
       "52                    0                      0  \n",
       "71                    0                      0  \n",
       "\n",
       "[5 rows x 21 columns]"
      ]
     },
     "execution_count": 13,
     "metadata": {},
     "output_type": "execute_result"
    }
   ],
   "source": [
    "temp_cbd_df.head()"
   ]
  },
  {
   "cell_type": "code",
   "execution_count": 14,
   "metadata": {},
   "outputs": [],
   "source": [
    "temp2_cbd_df=temp_cbd_df.drop(['neighborhood'],axis=1)\n",
    "temp3_cbd_df=temp2_cbd_df.dropna()\n",
    "cbd_df=temp3_cbd_df.copy()"
   ]
  },
  {
   "cell_type": "code",
   "execution_count": 15,
   "metadata": {},
   "outputs": [
    {
     "data": {
      "text/html": [
       "<div>\n",
       "<style scoped>\n",
       "    .dataframe tbody tr th:only-of-type {\n",
       "        vertical-align: middle;\n",
       "    }\n",
       "\n",
       "    .dataframe tbody tr th {\n",
       "        vertical-align: top;\n",
       "    }\n",
       "\n",
       "    .dataframe thead th {\n",
       "        text-align: right;\n",
       "    }\n",
       "</style>\n",
       "<table border=\"1\" class=\"dataframe\">\n",
       "  <thead>\n",
       "    <tr style=\"text-align: right;\">\n",
       "      <th></th>\n",
       "      <th>tmax</th>\n",
       "      <th>tmin</th>\n",
       "      <th>year</th>\n",
       "      <th>month</th>\n",
       "      <th>day</th>\n",
       "      <th>number_of_crimes</th>\n",
       "      <th>consumer_price_index</th>\n",
       "      <th>gdp_millions_2007</th>\n",
       "      <th>seasonally_adjusted_unemployment</th>\n",
       "      <th>unadjusted_unemployment</th>\n",
       "      <th>Possession, cocaine</th>\n",
       "      <th>Heroin, possession</th>\n",
       "      <th>Heroin Price Canada</th>\n",
       "      <th>day_segment_1200pm-1159pm</th>\n",
       "      <th>day_of_week_Monday</th>\n",
       "      <th>day_of_week_Saturday</th>\n",
       "      <th>day_of_week_Sunday</th>\n",
       "      <th>day_of_week_Thursday</th>\n",
       "      <th>day_of_week_Tuesday</th>\n",
       "      <th>day_of_week_Wednesday</th>\n",
       "    </tr>\n",
       "  </thead>\n",
       "  <tbody>\n",
       "    <tr>\n",
       "      <th>count</th>\n",
       "      <td>11150.000000</td>\n",
       "      <td>11150.000000</td>\n",
       "      <td>11150.000000</td>\n",
       "      <td>11150.000000</td>\n",
       "      <td>11150.000000</td>\n",
       "      <td>11150.000000</td>\n",
       "      <td>11150.000000</td>\n",
       "      <td>1.115000e+04</td>\n",
       "      <td>11150.000000</td>\n",
       "      <td>11150.000000</td>\n",
       "      <td>11150.000000</td>\n",
       "      <td>11150.000000</td>\n",
       "      <td>11150.000000</td>\n",
       "      <td>11150.000000</td>\n",
       "      <td>11150.000000</td>\n",
       "      <td>11150.000000</td>\n",
       "      <td>11150.000000</td>\n",
       "      <td>11150.000000</td>\n",
       "      <td>11150.000000</td>\n",
       "      <td>11150.000000</td>\n",
       "    </tr>\n",
       "    <tr>\n",
       "      <th>mean</th>\n",
       "      <td>58.321076</td>\n",
       "      <td>42.844036</td>\n",
       "      <td>2010.157399</td>\n",
       "      <td>6.442063</td>\n",
       "      <td>15.706996</td>\n",
       "      <td>10.621345</td>\n",
       "      <td>115.019112</td>\n",
       "      <td>1.524454e+06</td>\n",
       "      <td>5.944242</td>\n",
       "      <td>5.959614</td>\n",
       "      <td>3337.036303</td>\n",
       "      <td>619.175518</td>\n",
       "      <td>262.475119</td>\n",
       "      <td>0.500359</td>\n",
       "      <td>0.142780</td>\n",
       "      <td>0.142960</td>\n",
       "      <td>0.142780</td>\n",
       "      <td>0.143049</td>\n",
       "      <td>0.142601</td>\n",
       "      <td>0.142960</td>\n",
       "    </tr>\n",
       "    <tr>\n",
       "      <th>std</th>\n",
       "      <td>11.738490</td>\n",
       "      <td>9.730146</td>\n",
       "      <td>4.421962</td>\n",
       "      <td>3.466846</td>\n",
       "      <td>8.798253</td>\n",
       "      <td>5.171707</td>\n",
       "      <td>7.622396</td>\n",
       "      <td>1.257017e+05</td>\n",
       "      <td>1.258004</td>\n",
       "      <td>1.266498</td>\n",
       "      <td>1009.179298</td>\n",
       "      <td>323.202488</td>\n",
       "      <td>47.574770</td>\n",
       "      <td>0.500022</td>\n",
       "      <td>0.349864</td>\n",
       "      <td>0.350047</td>\n",
       "      <td>0.349864</td>\n",
       "      <td>0.350139</td>\n",
       "      <td>0.349681</td>\n",
       "      <td>0.350047</td>\n",
       "    </tr>\n",
       "    <tr>\n",
       "      <th>min</th>\n",
       "      <td>17.000000</td>\n",
       "      <td>0.000000</td>\n",
       "      <td>2003.000000</td>\n",
       "      <td>1.000000</td>\n",
       "      <td>1.000000</td>\n",
       "      <td>1.000000</td>\n",
       "      <td>100.900000</td>\n",
       "      <td>1.305168e+06</td>\n",
       "      <td>3.500000</td>\n",
       "      <td>3.700000</td>\n",
       "      <td>2047.000000</td>\n",
       "      <td>316.000000</td>\n",
       "      <td>141.100000</td>\n",
       "      <td>0.000000</td>\n",
       "      <td>0.000000</td>\n",
       "      <td>0.000000</td>\n",
       "      <td>0.000000</td>\n",
       "      <td>0.000000</td>\n",
       "      <td>0.000000</td>\n",
       "      <td>0.000000</td>\n",
       "    </tr>\n",
       "    <tr>\n",
       "      <th>25%</th>\n",
       "      <td>50.000000</td>\n",
       "      <td>36.000000</td>\n",
       "      <td>2006.000000</td>\n",
       "      <td>3.000000</td>\n",
       "      <td>8.000000</td>\n",
       "      <td>7.000000</td>\n",
       "      <td>108.700000</td>\n",
       "      <td>1.434215e+06</td>\n",
       "      <td>4.700000</td>\n",
       "      <td>4.800000</td>\n",
       "      <td>2524.000000</td>\n",
       "      <td>379.000000</td>\n",
       "      <td>254.500000</td>\n",
       "      <td>0.000000</td>\n",
       "      <td>0.000000</td>\n",
       "      <td>0.000000</td>\n",
       "      <td>0.000000</td>\n",
       "      <td>0.000000</td>\n",
       "      <td>0.000000</td>\n",
       "      <td>0.000000</td>\n",
       "    </tr>\n",
       "    <tr>\n",
       "      <th>50%</th>\n",
       "      <td>58.000000</td>\n",
       "      <td>44.000000</td>\n",
       "      <td>2010.000000</td>\n",
       "      <td>6.000000</td>\n",
       "      <td>16.000000</td>\n",
       "      <td>10.000000</td>\n",
       "      <td>115.600000</td>\n",
       "      <td>1.489185e+06</td>\n",
       "      <td>6.100000</td>\n",
       "      <td>6.100000</td>\n",
       "      <td>2891.000000</td>\n",
       "      <td>515.000000</td>\n",
       "      <td>272.200000</td>\n",
       "      <td>1.000000</td>\n",
       "      <td>0.000000</td>\n",
       "      <td>0.000000</td>\n",
       "      <td>0.000000</td>\n",
       "      <td>0.000000</td>\n",
       "      <td>0.000000</td>\n",
       "      <td>0.000000</td>\n",
       "    </tr>\n",
       "    <tr>\n",
       "      <th>75%</th>\n",
       "      <td>67.000000</td>\n",
       "      <td>50.000000</td>\n",
       "      <td>2014.000000</td>\n",
       "      <td>9.000000</td>\n",
       "      <td>23.000000</td>\n",
       "      <td>14.000000</td>\n",
       "      <td>120.500000</td>\n",
       "      <td>1.646852e+06</td>\n",
       "      <td>6.900000</td>\n",
       "      <td>7.000000</td>\n",
       "      <td>4682.000000</td>\n",
       "      <td>727.250000</td>\n",
       "      <td>297.600000</td>\n",
       "      <td>1.000000</td>\n",
       "      <td>0.000000</td>\n",
       "      <td>0.000000</td>\n",
       "      <td>0.000000</td>\n",
       "      <td>0.000000</td>\n",
       "      <td>0.000000</td>\n",
       "      <td>0.000000</td>\n",
       "    </tr>\n",
       "    <tr>\n",
       "      <th>max</th>\n",
       "      <td>96.000000</td>\n",
       "      <td>65.000000</td>\n",
       "      <td>2018.000000</td>\n",
       "      <td>12.000000</td>\n",
       "      <td>31.000000</td>\n",
       "      <td>43.000000</td>\n",
       "      <td>130.100000</td>\n",
       "      <td>1.762455e+06</td>\n",
       "      <td>8.300000</td>\n",
       "      <td>8.500000</td>\n",
       "      <td>4682.000000</td>\n",
       "      <td>1550.000000</td>\n",
       "      <td>335.500000</td>\n",
       "      <td>1.000000</td>\n",
       "      <td>1.000000</td>\n",
       "      <td>1.000000</td>\n",
       "      <td>1.000000</td>\n",
       "      <td>1.000000</td>\n",
       "      <td>1.000000</td>\n",
       "      <td>1.000000</td>\n",
       "    </tr>\n",
       "  </tbody>\n",
       "</table>\n",
       "</div>"
      ],
      "text/plain": [
       "               tmax          tmin          year         month           day  \\\n",
       "count  11150.000000  11150.000000  11150.000000  11150.000000  11150.000000   \n",
       "mean      58.321076     42.844036   2010.157399      6.442063     15.706996   \n",
       "std       11.738490      9.730146      4.421962      3.466846      8.798253   \n",
       "min       17.000000      0.000000   2003.000000      1.000000      1.000000   \n",
       "25%       50.000000     36.000000   2006.000000      3.000000      8.000000   \n",
       "50%       58.000000     44.000000   2010.000000      6.000000     16.000000   \n",
       "75%       67.000000     50.000000   2014.000000      9.000000     23.000000   \n",
       "max       96.000000     65.000000   2018.000000     12.000000     31.000000   \n",
       "\n",
       "       number_of_crimes  consumer_price_index  gdp_millions_2007  \\\n",
       "count      11150.000000          11150.000000       1.115000e+04   \n",
       "mean          10.621345            115.019112       1.524454e+06   \n",
       "std            5.171707              7.622396       1.257017e+05   \n",
       "min            1.000000            100.900000       1.305168e+06   \n",
       "25%            7.000000            108.700000       1.434215e+06   \n",
       "50%           10.000000            115.600000       1.489185e+06   \n",
       "75%           14.000000            120.500000       1.646852e+06   \n",
       "max           43.000000            130.100000       1.762455e+06   \n",
       "\n",
       "       seasonally_adjusted_unemployment  unadjusted_unemployment  \\\n",
       "count                      11150.000000             11150.000000   \n",
       "mean                           5.944242                 5.959614   \n",
       "std                            1.258004                 1.266498   \n",
       "min                            3.500000                 3.700000   \n",
       "25%                            4.700000                 4.800000   \n",
       "50%                            6.100000                 6.100000   \n",
       "75%                            6.900000                 7.000000   \n",
       "max                            8.300000                 8.500000   \n",
       "\n",
       "       Possession, cocaine   Heroin, possession   Heroin Price Canada  \\\n",
       "count          11150.000000         11150.000000         11150.000000   \n",
       "mean            3337.036303           619.175518           262.475119   \n",
       "std             1009.179298           323.202488            47.574770   \n",
       "min             2047.000000           316.000000           141.100000   \n",
       "25%             2524.000000           379.000000           254.500000   \n",
       "50%             2891.000000           515.000000           272.200000   \n",
       "75%             4682.000000           727.250000           297.600000   \n",
       "max             4682.000000          1550.000000           335.500000   \n",
       "\n",
       "       day_segment_1200pm-1159pm  day_of_week_Monday  day_of_week_Saturday  \\\n",
       "count               11150.000000        11150.000000          11150.000000   \n",
       "mean                    0.500359            0.142780              0.142960   \n",
       "std                     0.500022            0.349864              0.350047   \n",
       "min                     0.000000            0.000000              0.000000   \n",
       "25%                     0.000000            0.000000              0.000000   \n",
       "50%                     1.000000            0.000000              0.000000   \n",
       "75%                     1.000000            0.000000              0.000000   \n",
       "max                     1.000000            1.000000              1.000000   \n",
       "\n",
       "       day_of_week_Sunday  day_of_week_Thursday  day_of_week_Tuesday  \\\n",
       "count        11150.000000          11150.000000         11150.000000   \n",
       "mean             0.142780              0.143049             0.142601   \n",
       "std              0.349864              0.350139             0.349681   \n",
       "min              0.000000              0.000000             0.000000   \n",
       "25%              0.000000              0.000000             0.000000   \n",
       "50%              0.000000              0.000000             0.000000   \n",
       "75%              0.000000              0.000000             0.000000   \n",
       "max              1.000000              1.000000             1.000000   \n",
       "\n",
       "       day_of_week_Wednesday  \n",
       "count           11150.000000  \n",
       "mean                0.142960  \n",
       "std                 0.350047  \n",
       "min                 0.000000  \n",
       "25%                 0.000000  \n",
       "50%                 0.000000  \n",
       "75%                 0.000000  \n",
       "max                 1.000000  "
      ]
     },
     "execution_count": 15,
     "metadata": {},
     "output_type": "execute_result"
    }
   ],
   "source": [
    "cbd_df.describe()"
   ]
  },
  {
   "cell_type": "code",
   "execution_count": 16,
   "metadata": {},
   "outputs": [
    {
     "data": {
      "text/plain": [
       "Index(['tmax', 'tmin', 'year', 'month', 'day', 'number_of_crimes',\n",
       "       'consumer_price_index', 'gdp_millions_2007',\n",
       "       'seasonally_adjusted_unemployment', 'unadjusted_unemployment',\n",
       "       'Possession, cocaine ', 'Heroin, possession ', 'Heroin Price Canada',\n",
       "       'day_segment_1200pm-1159pm', 'day_of_week_Monday',\n",
       "       'day_of_week_Saturday', 'day_of_week_Sunday', 'day_of_week_Thursday',\n",
       "       'day_of_week_Tuesday', 'day_of_week_Wednesday'],\n",
       "      dtype='object')"
      ]
     },
     "execution_count": 16,
     "metadata": {},
     "output_type": "execute_result"
    }
   ],
   "source": [
    "cbd_df.columns"
   ]
  },
  {
   "cell_type": "code",
   "execution_count": null,
   "metadata": {},
   "outputs": [],
   "source": []
  },
  {
   "cell_type": "code",
   "execution_count": 17,
   "metadata": {},
   "outputs": [],
   "source": [
    "cbd_df_pre2017=cbd_df[(cbd_df.year<2017)]"
   ]
  },
  {
   "cell_type": "code",
   "execution_count": 18,
   "metadata": {},
   "outputs": [],
   "source": [
    "cbd_df_2017=cbd_df[(cbd_df.year==2017)]"
   ]
  },
  {
   "cell_type": "code",
   "execution_count": 19,
   "metadata": {},
   "outputs": [
    {
     "data": {
      "text/plain": [
       "Index(['tmax', 'tmin', 'year', 'month', 'day', 'number_of_crimes',\n",
       "       'consumer_price_index', 'gdp_millions_2007',\n",
       "       'seasonally_adjusted_unemployment', 'unadjusted_unemployment',\n",
       "       'Possession, cocaine ', 'Heroin, possession ', 'Heroin Price Canada',\n",
       "       'day_segment_1200pm-1159pm', 'day_of_week_Monday',\n",
       "       'day_of_week_Saturday', 'day_of_week_Sunday', 'day_of_week_Thursday',\n",
       "       'day_of_week_Tuesday', 'day_of_week_Wednesday'],\n",
       "      dtype='object')"
      ]
     },
     "execution_count": 19,
     "metadata": {},
     "output_type": "execute_result"
    }
   ],
   "source": [
    "cbd_df.columns"
   ]
  },
  {
   "cell_type": "code",
   "execution_count": 20,
   "metadata": {},
   "outputs": [],
   "source": [
    "X_train=cbd_df_pre2017[['tmax', 'tmin', 'year', 'month', 'day', \n",
    "       'consumer_price_index', 'gdp_millions_2007',\n",
    "       'seasonally_adjusted_unemployment', 'unadjusted_unemployment',\n",
    "       'Possession, cocaine ', 'Heroin, possession ', 'Heroin Price Canada',\n",
    "       'day_segment_1200pm-1159pm', 'day_of_week_Monday',\n",
    "       'day_of_week_Saturday', 'day_of_week_Sunday', 'day_of_week_Thursday',\n",
    "       'day_of_week_Tuesday', 'day_of_week_Wednesday']]\n",
    "\n",
    "y_train=cbd_df_pre2017['number_of_crimes']\n",
    "\n",
    "X_test=cbd_df_2017[['tmax', 'tmin', 'year', 'month', 'day',\n",
    "       'consumer_price_index', 'gdp_millions_2007',\n",
    "       'seasonally_adjusted_unemployment', 'unadjusted_unemployment',\n",
    "       'Possession, cocaine ', 'Heroin, possession ', 'Heroin Price Canada',\n",
    "       'day_segment_1200pm-1159pm', 'day_of_week_Monday',\n",
    "       'day_of_week_Saturday', 'day_of_week_Sunday', 'day_of_week_Thursday',\n",
    "       'day_of_week_Tuesday', 'day_of_week_Wednesday']]\n",
    "\n",
    "y_test=cbd_df_2017['number_of_crimes']"
   ]
  },
  {
   "cell_type": "code",
   "execution_count": 21,
   "metadata": {},
   "outputs": [],
   "source": [
    "X_columns=['year', 'month', 'day', 'tmax', 'tmin', 'precipitation',\n",
    "       'consumer_price_index', 'gdp_millions_2007',\n",
    "       'seasonally_adjusted_unemployment', 'unadjusted_unemployment',\n",
    "       'Possession, cocaine ', 'Heroin, possession ', 'Average_Heroin4_Price',\n",
    "       'day_segment_1200pm-1159pm', 'day_of_week_Monday',\n",
    "       'day_of_week_Saturday', 'day_of_week_Sunday', 'day_of_week_Thursday',\n",
    "       'day_of_week_Tuesday', 'day_of_week_Wednesday']"
   ]
  },
  {
   "cell_type": "code",
   "execution_count": 22,
   "metadata": {},
   "outputs": [],
   "source": [
    "from sklearn.preprocessing import StandardScaler\n",
    "scaler = StandardScaler()\n",
    "scaler.fit(X_train)  # Don't cheat - fit only on training data\n",
    "X_train = scaler.transform(X_train)\n",
    "X_test = scaler.transform(X_test)  # apply same transformation to test data"
   ]
  },
  {
   "cell_type": "code",
   "execution_count": null,
   "metadata": {},
   "outputs": [],
   "source": []
  },
  {
   "cell_type": "code",
   "execution_count": 23,
   "metadata": {},
   "outputs": [],
   "source": [
    "X_columns=['tmax', 'tmin', 'year', 'month', 'day', \n",
    "       'consumer_price_index', 'gdp_millions_2007',\n",
    "       'seasonally_adjusted_unemployment', 'unadjusted_unemployment',\n",
    "       'Possession, cocaine ', 'Heroin, possession ', 'Heroin Price Canada',\n",
    "       'day_segment_1200pm-1159pm', 'day_of_week_Monday',\n",
    "       'day_of_week_Saturday', 'day_of_week_Sunday', 'day_of_week_Thursday',\n",
    "       'day_of_week_Tuesday', 'day_of_week_Wednesday']"
   ]
  },
  {
   "cell_type": "code",
   "execution_count": null,
   "metadata": {},
   "outputs": [],
   "source": []
  },
  {
   "cell_type": "code",
   "execution_count": 24,
   "metadata": {},
   "outputs": [
    {
     "data": {
      "text/plain": [
       "Lasso(alpha=0.2, copy_X=True, fit_intercept=True, max_iter=1000,\n",
       "   normalize=False, positive=False, precompute=False, random_state=None,\n",
       "   selection='cyclic', tol=0.0001, warm_start=False)"
      ]
     },
     "execution_count": 24,
     "metadata": {},
     "output_type": "execute_result"
    }
   ],
   "source": [
    "from sklearn import metrics\n",
    "from sklearn.metrics import r2_score\n",
    "\n",
    "from sklearn import linear_model\n",
    "clf=linear_model.Lasso(alpha=0.2)\n",
    "clf.fit(X_train,y_train)"
   ]
  },
  {
   "cell_type": "code",
   "execution_count": 25,
   "metadata": {},
   "outputs": [
    {
     "name": "stdout",
     "output_type": "stream",
     "text": [
      "[ 0.15791795  0.08370101 -0.          0.         -0.15909678 -0.27780918\n",
      " -0.         -0.07206164 -0.          1.16028854  1.38835581  0.\n",
      "  1.91190736 -0.          0.42370153  0.         -0.00323712 -0.\n",
      " -0.12382837]\n"
     ]
    }
   ],
   "source": [
    "print(clf.coef_)"
   ]
  },
  {
   "cell_type": "code",
   "execution_count": 26,
   "metadata": {},
   "outputs": [
    {
     "name": "stdout",
     "output_type": "stream",
     "text": [
      "10.3292491668\n"
     ]
    }
   ],
   "source": [
    "print(clf.intercept_)"
   ]
  },
  {
   "cell_type": "code",
   "execution_count": 27,
   "metadata": {},
   "outputs": [
    {
     "data": {
      "text/html": [
       "<div>\n",
       "<style scoped>\n",
       "    .dataframe tbody tr th:only-of-type {\n",
       "        vertical-align: middle;\n",
       "    }\n",
       "\n",
       "    .dataframe tbody tr th {\n",
       "        vertical-align: top;\n",
       "    }\n",
       "\n",
       "    .dataframe thead th {\n",
       "        text-align: right;\n",
       "    }\n",
       "</style>\n",
       "<table border=\"1\" class=\"dataframe\">\n",
       "  <thead>\n",
       "    <tr style=\"text-align: right;\">\n",
       "      <th></th>\n",
       "      <th>Coefficient</th>\n",
       "    </tr>\n",
       "  </thead>\n",
       "  <tbody>\n",
       "    <tr>\n",
       "      <th>tmax</th>\n",
       "      <td>0.157918</td>\n",
       "    </tr>\n",
       "    <tr>\n",
       "      <th>tmin</th>\n",
       "      <td>0.083701</td>\n",
       "    </tr>\n",
       "    <tr>\n",
       "      <th>year</th>\n",
       "      <td>-0.000000</td>\n",
       "    </tr>\n",
       "    <tr>\n",
       "      <th>month</th>\n",
       "      <td>0.000000</td>\n",
       "    </tr>\n",
       "    <tr>\n",
       "      <th>day</th>\n",
       "      <td>-0.159097</td>\n",
       "    </tr>\n",
       "    <tr>\n",
       "      <th>consumer_price_index</th>\n",
       "      <td>-0.277809</td>\n",
       "    </tr>\n",
       "    <tr>\n",
       "      <th>gdp_millions_2007</th>\n",
       "      <td>-0.000000</td>\n",
       "    </tr>\n",
       "    <tr>\n",
       "      <th>seasonally_adjusted_unemployment</th>\n",
       "      <td>-0.072062</td>\n",
       "    </tr>\n",
       "    <tr>\n",
       "      <th>unadjusted_unemployment</th>\n",
       "      <td>-0.000000</td>\n",
       "    </tr>\n",
       "    <tr>\n",
       "      <th>Possession, cocaine</th>\n",
       "      <td>1.160289</td>\n",
       "    </tr>\n",
       "    <tr>\n",
       "      <th>Heroin, possession</th>\n",
       "      <td>1.388356</td>\n",
       "    </tr>\n",
       "    <tr>\n",
       "      <th>Heroin Price Canada</th>\n",
       "      <td>0.000000</td>\n",
       "    </tr>\n",
       "    <tr>\n",
       "      <th>day_segment_1200pm-1159pm</th>\n",
       "      <td>1.911907</td>\n",
       "    </tr>\n",
       "    <tr>\n",
       "      <th>day_of_week_Monday</th>\n",
       "      <td>-0.000000</td>\n",
       "    </tr>\n",
       "    <tr>\n",
       "      <th>day_of_week_Saturday</th>\n",
       "      <td>0.423702</td>\n",
       "    </tr>\n",
       "    <tr>\n",
       "      <th>day_of_week_Sunday</th>\n",
       "      <td>0.000000</td>\n",
       "    </tr>\n",
       "    <tr>\n",
       "      <th>day_of_week_Thursday</th>\n",
       "      <td>-0.003237</td>\n",
       "    </tr>\n",
       "    <tr>\n",
       "      <th>day_of_week_Tuesday</th>\n",
       "      <td>-0.000000</td>\n",
       "    </tr>\n",
       "    <tr>\n",
       "      <th>day_of_week_Wednesday</th>\n",
       "      <td>-0.123828</td>\n",
       "    </tr>\n",
       "  </tbody>\n",
       "</table>\n",
       "</div>"
      ],
      "text/plain": [
       "                                  Coefficient\n",
       "tmax                                 0.157918\n",
       "tmin                                 0.083701\n",
       "year                                -0.000000\n",
       "month                                0.000000\n",
       "day                                 -0.159097\n",
       "consumer_price_index                -0.277809\n",
       "gdp_millions_2007                   -0.000000\n",
       "seasonally_adjusted_unemployment    -0.072062\n",
       "unadjusted_unemployment             -0.000000\n",
       "Possession, cocaine                  1.160289\n",
       "Heroin, possession                   1.388356\n",
       "Heroin Price Canada                  0.000000\n",
       "day_segment_1200pm-1159pm            1.911907\n",
       "day_of_week_Monday                  -0.000000\n",
       "day_of_week_Saturday                 0.423702\n",
       "day_of_week_Sunday                   0.000000\n",
       "day_of_week_Thursday                -0.003237\n",
       "day_of_week_Tuesday                 -0.000000\n",
       "day_of_week_Wednesday               -0.123828"
      ]
     },
     "execution_count": 27,
     "metadata": {},
     "output_type": "execute_result"
    }
   ],
   "source": [
    "coeff_df=pd.DataFrame(clf.coef_, X_columns, columns=['Coefficient'])\n",
    "coeff_df"
   ]
  },
  {
   "cell_type": "code",
   "execution_count": 28,
   "metadata": {},
   "outputs": [
    {
     "name": "stdout",
     "output_type": "stream",
     "text": [
      "MAE: 4.5288707027\n",
      "MSE: 34.4911045367\n",
      "RMSE: 5.8729127813\n",
      "R2 score:  -0.103409827579\n"
     ]
    },
    {
     "name": "stderr",
     "output_type": "stream",
     "text": [
      "/Users/michaeljoyce/anaconda3/lib/python3.6/site-packages/matplotlib/axes/_axes.py:6462: UserWarning: The 'normed' kwarg is deprecated, and has been replaced by the 'density' kwarg.\n",
      "  warnings.warn(\"The 'normed' kwarg is deprecated, and has been \"\n"
     ]
    },
    {
     "data": {
      "text/plain": [
       "<matplotlib.axes._subplots.AxesSubplot at 0x1a28a8b978>"
      ]
     },
     "execution_count": 28,
     "metadata": {},
     "output_type": "execute_result"
    },
    {
     "data": {
      "image/png": "[encoded data removed]",
      "text/plain": [
       "<Figure size 432x288 with 1 Axes>"
      ]
     },
     "metadata": {},
     "output_type": "display_data"
    }
   ],
   "source": [
    "predictions1=clf.predict(X_test)\n",
    "print('MAE:', metrics.mean_absolute_error(y_test, predictions1))\n",
    "print('MSE:', metrics.mean_squared_error(y_test, predictions1))\n",
    "print('RMSE:', np.sqrt(metrics.mean_squared_error(y_test, predictions1)))\n",
    "print('R2 score: ',r2_score(y_test,predictions1))\n",
    "sns.distplot(y_test-predictions1)"
   ]
  },
  {
   "cell_type": "code",
   "execution_count": null,
   "metadata": {},
   "outputs": [],
   "source": []
  },
  {
   "cell_type": "code",
   "execution_count": 29,
   "metadata": {},
   "outputs": [
    {
     "data": {
      "text/plain": [
       "RandomForestRegressor(bootstrap=True, criterion='mse', max_depth=2,\n",
       "           max_features='auto', max_leaf_nodes=None,\n",
       "           min_impurity_decrease=0.0, min_impurity_split=None,\n",
       "           min_samples_leaf=1, min_samples_split=2,\n",
       "           min_weight_fraction_leaf=0.0, n_estimators=10, n_jobs=1,\n",
       "           oob_score=False, random_state=42, verbose=0, warm_start=False)"
      ]
     },
     "execution_count": 29,
     "metadata": {},
     "output_type": "execute_result"
    }
   ],
   "source": [
    "from sklearn.ensemble import RandomForestRegressor\n",
    "\n",
    "regr=RandomForestRegressor(max_depth=2, random_state=42)\n",
    "regr.fit(X_train,y_train)"
   ]
  },
  {
   "cell_type": "code",
   "execution_count": 30,
   "metadata": {},
   "outputs": [
    {
     "name": "stdout",
     "output_type": "stream",
     "text": [
      "MAE: 4.64361319448\n",
      "MSE: 36.7990159033\n",
      "RMSE: 6.06621924293\n",
      "R2 score:  -0.177242548139\n"
     ]
    },
    {
     "name": "stderr",
     "output_type": "stream",
     "text": [
      "/Users/michaeljoyce/anaconda3/lib/python3.6/site-packages/matplotlib/axes/_axes.py:6462: UserWarning: The 'normed' kwarg is deprecated, and has been replaced by the 'density' kwarg.\n",
      "  warnings.warn(\"The 'normed' kwarg is deprecated, and has been \"\n"
     ]
    },
    {
     "data": {
      "text/plain": [
       "<matplotlib.axes._subplots.AxesSubplot at 0x1a3adfac18>"
      ]
     },
     "execution_count": 30,
     "metadata": {},
     "output_type": "execute_result"
    },
    {
     "data": {
      "image/png": "[encoded data removed]",
      "text/plain": [
       "<Figure size 432x288 with 1 Axes>"
      ]
     },
     "metadata": {},
     "output_type": "display_data"
    }
   ],
   "source": [
    "predictions2=regr.predict(X_test)\n",
    "print('MAE:', metrics.mean_absolute_error(y_test, predictions2))\n",
    "print('MSE:', metrics.mean_squared_error(y_test, predictions2))\n",
    "print('RMSE:', np.sqrt(metrics.mean_squared_error(y_test, predictions2)))\n",
    "print('R2 score: ',r2_score(y_test,predictions2))\n",
    "sns.distplot(y_test-predictions2)"
   ]
  },
  {
   "cell_type": "code",
   "execution_count": null,
   "metadata": {},
   "outputs": [],
   "source": []
  },
  {
   "cell_type": "code",
   "execution_count": 31,
   "metadata": {},
   "outputs": [],
   "source": [
    "from sklearn.ensemble import AdaBoostRegressor"
   ]
  },
  {
   "cell_type": "code",
   "execution_count": 32,
   "metadata": {},
   "outputs": [
    {
     "data": {
      "text/plain": [
       "AdaBoostRegressor(base_estimator=None, learning_rate=1.0, loss='linear',\n",
       "         n_estimators=50, random_state=None)"
      ]
     },
     "execution_count": 32,
     "metadata": {},
     "output_type": "execute_result"
    }
   ],
   "source": [
    "ada=AdaBoostRegressor()\n",
    "ada.fit(X_train, y_train)\n"
   ]
  },
  {
   "cell_type": "code",
   "execution_count": 33,
   "metadata": {},
   "outputs": [
    {
     "name": "stdout",
     "output_type": "stream",
     "text": [
      "MAE: 4.5288707027\n",
      "MSE: 34.4911045367\n",
      "RMSE: 5.8729127813\n",
      "R2 score:  -0.103409827579\n"
     ]
    },
    {
     "name": "stderr",
     "output_type": "stream",
     "text": [
      "/Users/michaeljoyce/anaconda3/lib/python3.6/site-packages/matplotlib/axes/_axes.py:6462: UserWarning: The 'normed' kwarg is deprecated, and has been replaced by the 'density' kwarg.\n",
      "  warnings.warn(\"The 'normed' kwarg is deprecated, and has been \"\n"
     ]
    },
    {
     "data": {
      "text/plain": [
       "<matplotlib.axes._subplots.AxesSubplot at 0x1a3ae27128>"
      ]
     },
     "execution_count": 33,
     "metadata": {},
     "output_type": "execute_result"
    },
    {
     "data": {
      "image/png": "[encoded data removed]",
      "text/plain": [
       "<Figure size 432x288 with 1 Axes>"
      ]
     },
     "metadata": {},
     "output_type": "display_data"
    }
   ],
   "source": [
    "predictions3=clf.predict(X_test)\n",
    "print('MAE:', metrics.mean_absolute_error(y_test, predictions3))\n",
    "print('MSE:', metrics.mean_squared_error(y_test, predictions3))\n",
    "print('RMSE:', np.sqrt(metrics.mean_squared_error(y_test, predictions3)))\n",
    "print('R2 score: ',r2_score(y_test,predictions3))\n",
    "sns.distplot(y_test-predictions3)"
   ]
  },
  {
   "cell_type": "code",
   "execution_count": null,
   "metadata": {},
   "outputs": [],
   "source": []
  },
  {
   "cell_type": "code",
   "execution_count": 34,
   "metadata": {},
   "outputs": [
    {
     "name": "stdout",
     "output_type": "stream",
     "text": [
      "MAE: 4.5288707027\n",
      "MSE: 34.4911045367\n",
      "RMSE: 5.8729127813\n",
      "R2 score:  -0.103409827579\n"
     ]
    },
    {
     "name": "stderr",
     "output_type": "stream",
     "text": [
      "/Users/michaeljoyce/anaconda3/lib/python3.6/site-packages/matplotlib/axes/_axes.py:6462: UserWarning: The 'normed' kwarg is deprecated, and has been replaced by the 'density' kwarg.\n",
      "  warnings.warn(\"The 'normed' kwarg is deprecated, and has been \"\n"
     ]
    },
    {
     "data": {
      "text/plain": [
       "<matplotlib.axes._subplots.AxesSubplot at 0x1a3bd7de80>"
      ]
     },
     "execution_count": 34,
     "metadata": {},
     "output_type": "execute_result"
    },
    {
     "data": {
      "image/png": "[encoded data removed]",
      "text/plain": [
       "<Figure size 432x288 with 1 Axes>"
      ]
     },
     "metadata": {},
     "output_type": "display_data"
    }
   ],
   "source": [
    "from sklearn.neural_network import MLPRegressor\n",
    "mlp=MLPRegressor()\n",
    "mlp.fit(X_train,y_train)\n",
    "predictions4=clf.predict(X_test)\n",
    "print('MAE:', metrics.mean_absolute_error(y_test, predictions4))\n",
    "print('MSE:', metrics.mean_squared_error(y_test, predictions4))\n",
    "print('RMSE:', np.sqrt(metrics.mean_squared_error(y_test, predictions4)))\n",
    "print('R2 score: ',r2_score(y_test,predictions4))\n",
    "sns.distplot(y_test-predictions4)"
   ]
  },
  {
   "cell_type": "code",
   "execution_count": null,
   "metadata": {},
   "outputs": [],
   "source": []
  },
  {
   "cell_type": "code",
   "execution_count": 35,
   "metadata": {},
   "outputs": [
    {
     "data": {
      "text/plain": [
       "XGBRegressor(base_score=0.5, booster='gbtree', colsample_bylevel=1,\n",
       "       colsample_bytree=1, gamma=0, learning_rate=0.1, max_delta_step=0,\n",
       "       max_depth=3, min_child_weight=1, missing=None, n_estimators=100,\n",
       "       n_jobs=1, nthread=None, objective='reg:linear', random_state=0,\n",
       "       reg_alpha=0, reg_lambda=1, scale_pos_weight=1, seed=None,\n",
       "       silent=True, subsample=1)"
      ]
     },
     "execution_count": 35,
     "metadata": {},
     "output_type": "execute_result"
    }
   ],
   "source": [
    "from xgboost.sklearn import XGBRegressor\n",
    "xgb=XGBRegressor()\n",
    "xgb.fit(X_train,y_train)"
   ]
  },
  {
   "cell_type": "code",
   "execution_count": 36,
   "metadata": {},
   "outputs": [
    {
     "name": "stdout",
     "output_type": "stream",
     "text": [
      "MAE: 3.57703058948\n",
      "MSE: 21.0872144139\n",
      "RMSE: 4.59208170811\n",
      "R2 score:  0.325395926483\n"
     ]
    },
    {
     "name": "stderr",
     "output_type": "stream",
     "text": [
      "/Users/michaeljoyce/anaconda3/lib/python3.6/site-packages/matplotlib/axes/_axes.py:6462: UserWarning: The 'normed' kwarg is deprecated, and has been replaced by the 'density' kwarg.\n",
      "  warnings.warn(\"The 'normed' kwarg is deprecated, and has been \"\n"
     ]
    },
    {
     "data": {
      "text/plain": [
       "<matplotlib.axes._subplots.AxesSubplot at 0x1a3e3db780>"
      ]
     },
     "execution_count": 36,
     "metadata": {},
     "output_type": "execute_result"
    },
    {
     "data": {
      "image/png": "[encoded data removed]",
      "text/plain": [
       "<Figure size 432x288 with 1 Axes>"
      ]
     },
     "metadata": {},
     "output_type": "display_data"
    }
   ],
   "source": [
    "predictions5=xgb.predict(X_test)\n",
    "print('MAE:', metrics.mean_absolute_error(y_test, predictions5))\n",
    "print('MSE:', metrics.mean_squared_error(y_test, predictions5))\n",
    "print('RMSE:', np.sqrt(metrics.mean_squared_error(y_test, predictions5)))\n",
    "print('R2 score: ',r2_score(y_test,predictions5))\n",
    "sns.distplot(y_test-predictions5)"
   ]
  },
  {
   "cell_type": "code",
   "execution_count": null,
   "metadata": {},
   "outputs": [],
   "source": []
  },
  {
   "cell_type": "code",
   "execution_count": 37,
   "metadata": {},
   "outputs": [
    {
     "name": "stderr",
     "output_type": "stream",
     "text": [
      "/Users/michaeljoyce/anaconda3/lib/python3.6/site-packages/sklearn/cross_validation.py:41: DeprecationWarning: This module was deprecated in version 0.18 in favor of the model_selection module into which all the refactored classes and functions are moved. Also note that the interface of the new CV iterators are different from that of this module. This module will be removed in 0.20.\n",
      "  \"This module will be removed in 0.20.\", DeprecationWarning)\n",
      "/Users/michaeljoyce/anaconda3/lib/python3.6/site-packages/sklearn/grid_search.py:42: DeprecationWarning: This module was deprecated in version 0.18 in favor of the model_selection module into which all the refactored classes and functions are moved. This module will be removed in 0.20.\n",
      "  DeprecationWarning)\n"
     ]
    },
    {
     "data": {
      "text/plain": [
       "GridSearchCV(cv=None, error_score='raise',\n",
       "       estimator=XGBRegressor(base_score=0.5, booster='gbtree', colsample_bylevel=1,\n",
       "       colsample_bytree=1, gamma=0, learning_rate=0.1, max_delta_step=0,\n",
       "       max_depth=3, min_child_weight=1, missing=None, n_estimators=100,\n",
       "       n_jobs=1, nthread=-1, objective='reg:linear', random_state=0,\n",
       "       reg_alpha=0, reg_lambda=1, scale_pos_weight=1, seed=None,\n",
       "       silent=True, subsample=1),\n",
       "       fit_params={}, iid=True, n_jobs=1,\n",
       "       param_grid={'min_child_weight': [4, 5], 'gamma': [0.3, 0.4, 0.5], 'subsample': [0.6, 0.7, 0.8, 0.9, 1.0], 'colsample_bytree': [0.6, 0.7, 0.8, 0.9, 1.0], 'max_depth': [2, 3, 4]},\n",
       "       pre_dispatch='2*n_jobs', refit=True, scoring=None, verbose=0)"
      ]
     },
     "execution_count": 37,
     "metadata": {},
     "output_type": "execute_result"
    }
   ],
   "source": [
    "# from sklearn.grid_search import GridSearchCV\n",
    "\n",
    "# # A parameter grid for XGBoost\n",
    "# params = {'min_child_weight':[4,5], 'gamma':[i/10.0 for i in range(3,6)],  'subsample':[i/10.0 for i in range(6,11)],\n",
    "# 'colsample_bytree':[i/10.0 for i in range(6,11)], 'max_depth': [2,3,4]}\n",
    "# # Initialize XGB and GridSearch\n",
    "# xgb = XGBRegressor(nthread=-1) \n",
    "\n",
    "# grid = GridSearchCV(xgb, params)\n",
    "# grid.fit(X_train, y_train)"
   ]
  },
  {
   "cell_type": "code",
   "execution_count": 40,
   "metadata": {},
   "outputs": [
    {
     "data": {
      "text/plain": [
       "XGBRegressor(base_score=0.5, booster='gbtree', colsample_bylevel=1,\n",
       "       colsample_bytree=1, gamma=0, learning_rate=0.1, max_delta_step=0,\n",
       "       max_depth=3, min_child_weight=1, missing=None, n_estimators=100,\n",
       "       n_jobs=1, nthread=-1, objective='reg:linear', random_state=0,\n",
       "       reg_alpha=0, reg_lambda=1, scale_pos_weight=1, seed=None,\n",
       "       silent=True, subsample=1)"
      ]
     },
     "execution_count": 40,
     "metadata": {},
     "output_type": "execute_result"
    }
   ],
   "source": [
    "xgb2=XGBRegressor(base_score=0.5, booster='gbtree', colsample_bylevel=1,\n",
    "       colsample_bytree=1, gamma=0, learning_rate=0.1, max_delta_step=0,\n",
    "       max_depth=3, min_child_weight=1, missing=None, n_estimators=100,\n",
    "       n_jobs=1, nthread=-1, objective='reg:linear', random_state=0,\n",
    "       reg_alpha=0, reg_lambda=1, scale_pos_weight=1, seed=None,\n",
    "       silent=True, subsample=1)\n",
    "xgb2.fit(X_train,y_train)"
   ]
  },
  {
   "cell_type": "code",
   "execution_count": 41,
   "metadata": {},
   "outputs": [
    {
     "name": "stdout",
     "output_type": "stream",
     "text": [
      "MAE: 3.57703058948\n",
      "MSE: 21.0872144139\n",
      "RMSE: 4.59208170811\n",
      "R2 score:  0.325395926483\n"
     ]
    },
    {
     "name": "stderr",
     "output_type": "stream",
     "text": [
      "/Users/michaeljoyce/anaconda3/lib/python3.6/site-packages/matplotlib/axes/_axes.py:6462: UserWarning: The 'normed' kwarg is deprecated, and has been replaced by the 'density' kwarg.\n",
      "  warnings.warn(\"The 'normed' kwarg is deprecated, and has been \"\n"
     ]
    },
    {
     "data": {
      "text/plain": [
       "<matplotlib.axes._subplots.AxesSubplot at 0x1a46c8eef0>"
      ]
     },
     "execution_count": 41,
     "metadata": {},
     "output_type": "execute_result"
    },
    {
     "data": {
      "image/png": "[encoded data removed]",
      "text/plain": [
       "<Figure size 432x288 with 1 Axes>"
      ]
     },
     "metadata": {},
     "output_type": "display_data"
    }
   ],
   "source": [
    "predictions6=xgb2.predict(X_test)\n",
    "print('MAE:', metrics.mean_absolute_error(y_test, predictions6))\n",
    "print('MSE:', metrics.mean_squared_error(y_test, predictions6))\n",
    "print('RMSE:', np.sqrt(metrics.mean_squared_error(y_test, predictions6)))\n",
    "print('R2 score: ',r2_score(y_test,predictions6))\n",
    "sns.distplot(y_test-predictions6)"
   ]
  },
  {
   "cell_type": "code",
   "execution_count": 43,
   "metadata": {},
   "outputs": [
    {
     "data": {
      "text/html": [
       "<div>\n",
       "<style scoped>\n",
       "    .dataframe tbody tr th:only-of-type {\n",
       "        vertical-align: middle;\n",
       "    }\n",
       "\n",
       "    .dataframe tbody tr th {\n",
       "        vertical-align: top;\n",
       "    }\n",
       "\n",
       "    .dataframe thead th {\n",
       "        text-align: right;\n",
       "    }\n",
       "</style>\n",
       "<table border=\"1\" class=\"dataframe\">\n",
       "  <thead>\n",
       "    <tr style=\"text-align: right;\">\n",
       "      <th></th>\n",
       "      <th>Coefficient</th>\n",
       "    </tr>\n",
       "  </thead>\n",
       "  <tbody>\n",
       "    <tr>\n",
       "      <th>tmax</th>\n",
       "      <td>0.086083</td>\n",
       "    </tr>\n",
       "    <tr>\n",
       "      <th>tmin</th>\n",
       "      <td>0.063128</td>\n",
       "    </tr>\n",
       "    <tr>\n",
       "      <th>year</th>\n",
       "      <td>0.035868</td>\n",
       "    </tr>\n",
       "    <tr>\n",
       "      <th>month</th>\n",
       "      <td>0.068867</td>\n",
       "    </tr>\n",
       "    <tr>\n",
       "      <th>day</th>\n",
       "      <td>0.154950</td>\n",
       "    </tr>\n",
       "    <tr>\n",
       "      <th>consumer_price_index</th>\n",
       "      <td>0.113343</td>\n",
       "    </tr>\n",
       "    <tr>\n",
       "      <th>gdp_millions_2007</th>\n",
       "      <td>0.110473</td>\n",
       "    </tr>\n",
       "    <tr>\n",
       "      <th>seasonally_adjusted_unemployment</th>\n",
       "      <td>0.063128</td>\n",
       "    </tr>\n",
       "    <tr>\n",
       "      <th>unadjusted_unemployment</th>\n",
       "      <td>0.021521</td>\n",
       "    </tr>\n",
       "    <tr>\n",
       "      <th>Possession, cocaine</th>\n",
       "      <td>0.005739</td>\n",
       "    </tr>\n",
       "    <tr>\n",
       "      <th>Heroin, possession</th>\n",
       "      <td>0.008608</td>\n",
       "    </tr>\n",
       "    <tr>\n",
       "      <th>Heroin Price Canada</th>\n",
       "      <td>0.028694</td>\n",
       "    </tr>\n",
       "    <tr>\n",
       "      <th>day_segment_1200pm-1159pm</th>\n",
       "      <td>0.078910</td>\n",
       "    </tr>\n",
       "    <tr>\n",
       "      <th>day_of_week_Monday</th>\n",
       "      <td>0.021521</td>\n",
       "    </tr>\n",
       "    <tr>\n",
       "      <th>day_of_week_Saturday</th>\n",
       "      <td>0.032999</td>\n",
       "    </tr>\n",
       "    <tr>\n",
       "      <th>day_of_week_Sunday</th>\n",
       "      <td>0.020086</td>\n",
       "    </tr>\n",
       "    <tr>\n",
       "      <th>day_of_week_Thursday</th>\n",
       "      <td>0.025825</td>\n",
       "    </tr>\n",
       "    <tr>\n",
       "      <th>day_of_week_Tuesday</th>\n",
       "      <td>0.020086</td>\n",
       "    </tr>\n",
       "    <tr>\n",
       "      <th>day_of_week_Wednesday</th>\n",
       "      <td>0.040172</td>\n",
       "    </tr>\n",
       "  </tbody>\n",
       "</table>\n",
       "</div>"
      ],
      "text/plain": [
       "                                  Coefficient\n",
       "tmax                                 0.086083\n",
       "tmin                                 0.063128\n",
       "year                                 0.035868\n",
       "month                                0.068867\n",
       "day                                  0.154950\n",
       "consumer_price_index                 0.113343\n",
       "gdp_millions_2007                    0.110473\n",
       "seasonally_adjusted_unemployment     0.063128\n",
       "unadjusted_unemployment              0.021521\n",
       "Possession, cocaine                  0.005739\n",
       "Heroin, possession                   0.008608\n",
       "Heroin Price Canada                  0.028694\n",
       "day_segment_1200pm-1159pm            0.078910\n",
       "day_of_week_Monday                   0.021521\n",
       "day_of_week_Saturday                 0.032999\n",
       "day_of_week_Sunday                   0.020086\n",
       "day_of_week_Thursday                 0.025825\n",
       "day_of_week_Tuesday                  0.020086\n",
       "day_of_week_Wednesday                0.040172"
      ]
     },
     "execution_count": 43,
     "metadata": {},
     "output_type": "execute_result"
    }
   ],
   "source": [
    " coeff_df2=pd.DataFrame(xgb2.feature_importances_, X_columns, columns=['Coefficient'])\n",
    "coeff_df2"
   ]
  },
  {
   "cell_type": "code",
   "execution_count": null,
   "metadata": {},
   "outputs": [],
   "source": []
  },
  {
   "cell_type": "code",
   "execution_count": null,
   "metadata": {},
   "outputs": [],
   "source": []
  },
  {
   "cell_type": "code",
   "execution_count": null,
   "metadata": {},
   "outputs": [],
   "source": []
  },
  {
   "cell_type": "code",
   "execution_count": null,
   "metadata": {},
   "outputs": [],
   "source": []
  },
  {
   "cell_type": "code",
   "execution_count": null,
   "metadata": {},
   "outputs": [],
   "source": []
  },
  {
   "cell_type": "code",
   "execution_count": null,
   "metadata": {},
   "outputs": [],
   "source": []
  },
  {
   "cell_type": "code",
   "execution_count": null,
   "metadata": {},
   "outputs": [],
   "source": []
  },
  {
   "cell_type": "code",
   "execution_count": null,
   "metadata": {},
   "outputs": [],
   "source": []
  },
  {
   "cell_type": "code",
   "execution_count": null,
   "metadata": {},
   "outputs": [],
   "source": []
  },
  {
   "cell_type": "code",
   "execution_count": null,
   "metadata": {},
   "outputs": [],
   "source": []
  },
  {
   "cell_type": "code",
   "execution_count": null,
   "metadata": {},
   "outputs": [],
   "source": []
  },
  {
   "cell_type": "code",
   "execution_count": null,
   "metadata": {},
   "outputs": [],
   "source": []
  },
  {
   "cell_type": "code",
   "execution_count": null,
   "metadata": {},
   "outputs": [],
   "source": []
  },
  {
   "cell_type": "code",
   "execution_count": null,
   "metadata": {},
   "outputs": [],
   "source": []
  },
  {
   "cell_type": "code",
   "execution_count": null,
   "metadata": {},
   "outputs": [],
   "source": []
  }
 ],
 "metadata": {
  "kernelspec": {
   "display_name": "Python 3",
   "language": "python",
   "name": "python3"
  },
  "language_info": {
   "codemirror_mode": {
    "name": "ipython",
    "version": 3
   },
   "file_extension": ".py",
   "mimetype": "text/x-python",
   "name": "python",
   "nbconvert_exporter": "python",
   "pygments_lexer": "ipython3",
   "version": "3.6.4"
  }
 },
 "nbformat": 4,
 "nbformat_minor": 2
}
